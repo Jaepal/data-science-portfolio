{
 "cells": [
  {
   "cell_type": "markdown",
   "metadata": {},
   "source": [
    "# Exploring Slot Machine Data"
   ]
  },
  {
   "cell_type": "code",
   "execution_count": 116,
   "metadata": {},
   "outputs": [],
   "source": [
    "# 필요한 패키지 불러오기\n",
    "\n",
    "import pandas as pd\n",
    "import matplotlib.pyplot as plt\n",
    "import numpy as np\n",
    "import seaborn as sns\n",
    "import scipy.stats as st\n",
    "\n",
    "sns.set(style=\"darkgrid\", font_scale=2)\n",
    "\n",
    "%matplotlib inline"
   ]
  },
  {
   "cell_type": "code",
   "execution_count": 4,
   "metadata": {},
   "outputs": [],
   "source": [
    "labels = ['10', 'J', 'Q', 'K', 'A', 'Ca', 'Co', 'D', 'Cr', 'W', 'R']"
   ]
  },
  {
   "cell_type": "code",
   "execution_count": 5,
   "metadata": {},
   "outputs": [
    {
     "data": {
      "text/html": [
       "<div>\n",
       "<style scoped>\n",
       "    .dataframe tbody tr th:only-of-type {\n",
       "        vertical-align: middle;\n",
       "    }\n",
       "\n",
       "    .dataframe tbody tr th {\n",
       "        vertical-align: top;\n",
       "    }\n",
       "\n",
       "    .dataframe thead th {\n",
       "        text-align: right;\n",
       "    }\n",
       "</style>\n",
       "<table border=\"1\" class=\"dataframe\">\n",
       "  <thead>\n",
       "    <tr style=\"text-align: right;\">\n",
       "      <th></th>\n",
       "      <th>img</th>\n",
       "      <th>classname</th>\n",
       "    </tr>\n",
       "  </thead>\n",
       "  <tbody>\n",
       "    <tr>\n",
       "      <th>0</th>\n",
       "      <td>platinum_0_0.jpg</td>\n",
       "      <td>Ca</td>\n",
       "    </tr>\n",
       "    <tr>\n",
       "      <th>1</th>\n",
       "      <td>platinum_0_1.jpg</td>\n",
       "      <td>A</td>\n",
       "    </tr>\n",
       "    <tr>\n",
       "      <th>2</th>\n",
       "      <td>platinum_0_2.jpg</td>\n",
       "      <td>Q</td>\n",
       "    </tr>\n",
       "    <tr>\n",
       "      <th>3</th>\n",
       "      <td>platinum_0_3.jpg</td>\n",
       "      <td>W</td>\n",
       "    </tr>\n",
       "    <tr>\n",
       "      <th>4</th>\n",
       "      <td>platinum_0_4.jpg</td>\n",
       "      <td>A</td>\n",
       "    </tr>\n",
       "  </tbody>\n",
       "</table>\n",
       "</div>"
      ],
      "text/plain": [
       "                img classname\n",
       "0  platinum_0_0.jpg        Ca\n",
       "1  platinum_0_1.jpg         A\n",
       "2  platinum_0_2.jpg         Q\n",
       "3  platinum_0_3.jpg         W\n",
       "4  platinum_0_4.jpg         A"
      ]
     },
     "execution_count": 5,
     "metadata": {},
     "output_type": "execute_result"
    }
   ],
   "source": [
    "# csv 파일 불러오기\n",
    "\n",
    "slot_result = pd.read_csv('../data/slot_machine/platinum_csv/pl_all.csv')\n",
    "slot_result.head()"
   ]
  },
  {
   "cell_type": "code",
   "execution_count": 6,
   "metadata": {},
   "outputs": [],
   "source": [
    "# 각 칸의 결과마다 game, row, col column 생성\n",
    "\n",
    "slot_result_game = [int(i_name.split('_')[1]) for n, i_name in enumerate(slot_result['img'])]\n",
    "slot_result_row = [int(i_name.split('_')[2].split('.')[0]) % 3 + 1 for n, i_name in enumerate(slot_result['img'])]\n",
    "slot_result_col = [int(i_name.split('_')[2].split('.')[0]) // 3 + 1 for n, i_name in enumerate(slot_result['img'])]"
   ]
  },
  {
   "cell_type": "code",
   "execution_count": 7,
   "metadata": {
    "scrolled": false
   },
   "outputs": [
    {
     "data": {
      "text/html": [
       "<div>\n",
       "<style scoped>\n",
       "    .dataframe tbody tr th:only-of-type {\n",
       "        vertical-align: middle;\n",
       "    }\n",
       "\n",
       "    .dataframe tbody tr th {\n",
       "        vertical-align: top;\n",
       "    }\n",
       "\n",
       "    .dataframe thead th {\n",
       "        text-align: right;\n",
       "    }\n",
       "</style>\n",
       "<table border=\"1\" class=\"dataframe\">\n",
       "  <thead>\n",
       "    <tr style=\"text-align: right;\">\n",
       "      <th></th>\n",
       "      <th>img</th>\n",
       "      <th>classname</th>\n",
       "      <th>game</th>\n",
       "      <th>row</th>\n",
       "      <th>col</th>\n",
       "    </tr>\n",
       "  </thead>\n",
       "  <tbody>\n",
       "    <tr>\n",
       "      <th>0</th>\n",
       "      <td>platinum_0_0.jpg</td>\n",
       "      <td>Ca</td>\n",
       "      <td>0</td>\n",
       "      <td>1</td>\n",
       "      <td>1</td>\n",
       "    </tr>\n",
       "    <tr>\n",
       "      <th>1</th>\n",
       "      <td>platinum_0_1.jpg</td>\n",
       "      <td>A</td>\n",
       "      <td>0</td>\n",
       "      <td>2</td>\n",
       "      <td>1</td>\n",
       "    </tr>\n",
       "    <tr>\n",
       "      <th>2</th>\n",
       "      <td>platinum_0_2.jpg</td>\n",
       "      <td>Q</td>\n",
       "      <td>0</td>\n",
       "      <td>3</td>\n",
       "      <td>1</td>\n",
       "    </tr>\n",
       "    <tr>\n",
       "      <th>3</th>\n",
       "      <td>platinum_0_3.jpg</td>\n",
       "      <td>W</td>\n",
       "      <td>0</td>\n",
       "      <td>1</td>\n",
       "      <td>2</td>\n",
       "    </tr>\n",
       "    <tr>\n",
       "      <th>4</th>\n",
       "      <td>platinum_0_4.jpg</td>\n",
       "      <td>A</td>\n",
       "      <td>0</td>\n",
       "      <td>2</td>\n",
       "      <td>2</td>\n",
       "    </tr>\n",
       "    <tr>\n",
       "      <th>5</th>\n",
       "      <td>platinum_0_5.jpg</td>\n",
       "      <td>A</td>\n",
       "      <td>0</td>\n",
       "      <td>3</td>\n",
       "      <td>2</td>\n",
       "    </tr>\n",
       "    <tr>\n",
       "      <th>6</th>\n",
       "      <td>platinum_0_6.jpg</td>\n",
       "      <td>10</td>\n",
       "      <td>0</td>\n",
       "      <td>1</td>\n",
       "      <td>3</td>\n",
       "    </tr>\n",
       "    <tr>\n",
       "      <th>7</th>\n",
       "      <td>platinum_0_7.jpg</td>\n",
       "      <td>Cr</td>\n",
       "      <td>0</td>\n",
       "      <td>2</td>\n",
       "      <td>3</td>\n",
       "    </tr>\n",
       "    <tr>\n",
       "      <th>8</th>\n",
       "      <td>platinum_0_8.jpg</td>\n",
       "      <td>Co</td>\n",
       "      <td>0</td>\n",
       "      <td>3</td>\n",
       "      <td>3</td>\n",
       "    </tr>\n",
       "    <tr>\n",
       "      <th>9</th>\n",
       "      <td>platinum_0_9.jpg</td>\n",
       "      <td>10</td>\n",
       "      <td>0</td>\n",
       "      <td>1</td>\n",
       "      <td>4</td>\n",
       "    </tr>\n",
       "    <tr>\n",
       "      <th>10</th>\n",
       "      <td>platinum_0_10.jpg</td>\n",
       "      <td>Co</td>\n",
       "      <td>0</td>\n",
       "      <td>2</td>\n",
       "      <td>4</td>\n",
       "    </tr>\n",
       "    <tr>\n",
       "      <th>11</th>\n",
       "      <td>platinum_0_11.jpg</td>\n",
       "      <td>10</td>\n",
       "      <td>0</td>\n",
       "      <td>3</td>\n",
       "      <td>4</td>\n",
       "    </tr>\n",
       "    <tr>\n",
       "      <th>12</th>\n",
       "      <td>platinum_0_12.jpg</td>\n",
       "      <td>10</td>\n",
       "      <td>0</td>\n",
       "      <td>1</td>\n",
       "      <td>5</td>\n",
       "    </tr>\n",
       "    <tr>\n",
       "      <th>13</th>\n",
       "      <td>platinum_0_13.jpg</td>\n",
       "      <td>A</td>\n",
       "      <td>0</td>\n",
       "      <td>2</td>\n",
       "      <td>5</td>\n",
       "    </tr>\n",
       "    <tr>\n",
       "      <th>14</th>\n",
       "      <td>platinum_0_14.jpg</td>\n",
       "      <td>J</td>\n",
       "      <td>0</td>\n",
       "      <td>3</td>\n",
       "      <td>5</td>\n",
       "    </tr>\n",
       "  </tbody>\n",
       "</table>\n",
       "</div>"
      ],
      "text/plain": [
       "                  img classname  game  row  col\n",
       "0    platinum_0_0.jpg        Ca     0    1    1\n",
       "1    platinum_0_1.jpg         A     0    2    1\n",
       "2    platinum_0_2.jpg         Q     0    3    1\n",
       "3    platinum_0_3.jpg         W     0    1    2\n",
       "4    platinum_0_4.jpg         A     0    2    2\n",
       "5    platinum_0_5.jpg         A     0    3    2\n",
       "6    platinum_0_6.jpg        10     0    1    3\n",
       "7    platinum_0_7.jpg        Cr     0    2    3\n",
       "8    platinum_0_8.jpg        Co     0    3    3\n",
       "9    platinum_0_9.jpg        10     0    1    4\n",
       "10  platinum_0_10.jpg        Co     0    2    4\n",
       "11  platinum_0_11.jpg        10     0    3    4\n",
       "12  platinum_0_12.jpg        10     0    1    5\n",
       "13  platinum_0_13.jpg         A     0    2    5\n",
       "14  platinum_0_14.jpg         J     0    3    5"
      ]
     },
     "execution_count": 7,
     "metadata": {},
     "output_type": "execute_result"
    }
   ],
   "source": [
    "slot_result['game'] = slot_result_game\n",
    "slot_result['row'] = slot_result_row\n",
    "slot_result['col'] = slot_result_col\n",
    "\n",
    "slot_result.head(15)"
   ]
  },
  {
   "cell_type": "code",
   "execution_count": 8,
   "metadata": {},
   "outputs": [],
   "source": [
    "tmp = []\n",
    "slot_result_per_game = []\n",
    "for n, x in enumerate(slot_result['classname']):\n",
    "    tmp.append(x)\n",
    "    if (n+1) % 15 == 0:\n",
    "        slot_result_per_game.append(tmp)\n",
    "        tmp = []"
   ]
  },
  {
   "cell_type": "markdown",
   "metadata": {},
   "source": [
    "## 1. 각 Symbol의 출현 빈도 확인"
   ]
  },
  {
   "cell_type": "code",
   "execution_count": 9,
   "metadata": {
    "scrolled": true
   },
   "outputs": [
    {
     "data": {
      "text/plain": [
       "Q     13.236667\n",
       "10    12.553333\n",
       "K     12.073333\n",
       "A     11.506667\n",
       "J      9.543333\n",
       "Ca     9.520000\n",
       "Cr     8.760000\n",
       "D      8.026667\n",
       "Co     7.576667\n",
       "R      4.040000\n",
       "W      3.163333\n",
       "Name: classname, dtype: float64"
      ]
     },
     "execution_count": 9,
     "metadata": {},
     "output_type": "execute_result"
    }
   ],
   "source": [
    "# 각 Symbol의 출현 확률의 구체적인 수치\n",
    "\n",
    "slot_result['classname'].value_counts() / len(slot_result) * 100"
   ]
  },
  {
   "cell_type": "code",
   "execution_count": 107,
   "metadata": {},
   "outputs": [
    {
     "data": {
      "image/png": "[encoded data removed]",
      "text/plain": [
       "<Figure size 1440x864 with 1 Axes>"
      ]
     },
     "metadata": {},
     "output_type": "display_data"
    }
   ],
   "source": [
    "# 각 Symbol의 출현 확률 시각화\n",
    "\n",
    "plt.figure(figsize=(20,12))\n",
    "sns.barplot(x=slot_result['classname'].value_counts().index, y=slot_result['classname'].value_counts() / len(slot_result))\n",
    "plt.show()"
   ]
  },
  {
   "cell_type": "code",
   "execution_count": 108,
   "metadata": {
    "scrolled": false
   },
   "outputs": [
    {
     "data": {
      "image/png": "[encoded data removed]",
      "text/plain": [
       "<Figure size 1440x864 with 1 Axes>"
      ]
     },
     "metadata": {},
     "output_type": "display_data"
    }
   ],
   "source": [
    "# 각 reel별 출현 횟수 시각화\n",
    "\n",
    "plt.figure(figsize=(20,12))\n",
    "sns.countplot(x='classname', data=slot_result, hue='col', order=labels)\n",
    "plt.show()"
   ]
  },
  {
   "cell_type": "markdown",
   "metadata": {},
   "source": [
    "## 2. Simulation 데이터 생성\n",
    "각 15개의 칸이 위의 각 Symbol의 출현 확률을 가지고 완전히 독립적으로 작동한다는 가정 하에 2000번의 Simulation 데이터를 생성하고, 게임 모델을 보완하여 최대한 실제 게임과 가깝게 만들기 위해 실제 게임과의 차이를 확인합니다."
   ]
  },
  {
   "cell_type": "code",
   "execution_count": 272,
   "metadata": {},
   "outputs": [],
   "source": [
    "def getPlatinumColType(i):\n",
    "    if i==0:\n",
    "        j = np.random.randint(1, 201)\n",
    "        if j <= 109:\n",
    "            return '3'\n",
    "        elif j <= 151 and j > 109:\n",
    "            return '2-1'\n",
    "        elif j <= 169 and j > 151:\n",
    "            return '2-2'\n",
    "        elif j <= 186 and j > 169:\n",
    "            return '2-3'\n",
    "        elif j > 186:\n",
    "            return '1'\n",
    "    if i==1:\n",
    "        j = np.random.randint(1, 201)\n",
    "        if j <= 88:\n",
    "            return '3'\n",
    "        elif j <= 127 and j > 88:\n",
    "            return '2-1'\n",
    "        elif j <= 138 and j > 127:\n",
    "            return '2-2'\n",
    "        elif j <= 183 and j > 138:\n",
    "            return '2-3'\n",
    "        elif j > 183:\n",
    "            return '1'\n",
    "    if i==2:\n",
    "        j = np.random.randint(1, 201)\n",
    "        if j <= 93:\n",
    "            return '3'\n",
    "        elif j <= 125 and j > 93:\n",
    "            return '2-1'\n",
    "        elif j <= 137 and j > 125:\n",
    "            return '2-2'\n",
    "        elif j <= 176 and j > 137:\n",
    "            return '2-3'\n",
    "        elif j > 176:\n",
    "            return '1'\n",
    "    if i==3:\n",
    "        j = np.random.randint(1, 201)\n",
    "        if j <= 110:\n",
    "            return '3'\n",
    "        elif j <= 130 and j > 110:\n",
    "            return '2-1'\n",
    "        elif j <= 149 and j > 130:\n",
    "            return '2-2'\n",
    "        elif j <= 192 and j > 149:\n",
    "            return '2-3'\n",
    "        elif j > 192:\n",
    "            return '1'\n",
    "    if i==4:\n",
    "        j = np.random.randint(1, 201)\n",
    "        if j <= 78:\n",
    "            return '3'\n",
    "        elif j <= 127 and j > 78:\n",
    "            return '2-1'\n",
    "        elif j <= 134 and j > 127:\n",
    "            return '2-2'\n",
    "        elif j <= 151 and j > 134:\n",
    "            return '2-3'\n",
    "        elif j > 151:\n",
    "            return '1'\n",
    "\n",
    "def getPlatinumSymbol(start, end):\n",
    "    i = np.random.randint(start, end)\n",
    "    if i <= 27:\n",
    "        return 'Q'\n",
    "    elif i <= 52 and i > 27:\n",
    "        return '10'\n",
    "    elif i <= 76 and i > 52:\n",
    "        return 'K'\n",
    "    elif i <= 99 and i > 76:\n",
    "        return 'A'\n",
    "    elif i <= 118 and i > 99:\n",
    "        return 'J'\n",
    "    elif i <= 137 and i > 118:\n",
    "        return 'Ca'\n",
    "    elif i <= 155 and i > 137:\n",
    "        return 'Cr'\n",
    "    elif i <= 171 and i > 155:\n",
    "        return 'D'\n",
    "    elif i <= 186 and i > 171:\n",
    "        return 'Co'\n",
    "    elif i <= 192 and i > 186:\n",
    "        return 'W'\n",
    "    elif i > 192:\n",
    "        return 'R'\n",
    "\n",
    "def spin_platinum():\n",
    "    game = []\n",
    "    start = 1\n",
    "    end = 201\n",
    "    for i in range(5):\n",
    "        tmp = []\n",
    "        if game.count('R') >= 9:\n",
    "            end = 193\n",
    "        col_type = getPlatinumColType(i)\n",
    "        if col_type == '3':\n",
    "            for i in range(3):\n",
    "                tmp.append(getPlatinumSymbol(start, end))\n",
    "        elif col_type == '2-1':\n",
    "            tmp.extend([getPlatinumSymbol(start, end)]*2)\n",
    "            tmp.append(getPlatinumSymbol(start, end))\n",
    "        elif col_type == '2-2':\n",
    "            tmp.extend([getPlatinumSymbol(start, end)]*2)\n",
    "            tmp.append(getPlatinumSymbol(start, end))\n",
    "            tmp[2], tmp[1] = tmp[1], tmp[2]\n",
    "        elif col_type == '2-3':\n",
    "            tmp.append(getPlatinumSymbol(start, end))\n",
    "            tmp.extend([getPlatinumSymbol(start, end)]*2)\n",
    "        elif col_type == '1':\n",
    "            tmp.extend([getPlatinumSymbol(start, end)]*3)\n",
    "        game.extend(tmp)\n",
    "    return game"
   ]
  },
  {
   "cell_type": "code",
   "execution_count": 307,
   "metadata": {},
   "outputs": [],
   "source": [
    "'''\n",
    "2000번의 실제 게임 데이터를 기반으로 각 Symbol의 출현 빈도 설정\n",
    "\n",
    "# Q   : 13.5 %\n",
    "# 10  : 12.5 %\n",
    "# K   : 12 %\n",
    "# A   : 11.5 %\n",
    "# J   : 9.5 %\n",
    "# Ca  : 9.5 %\n",
    "# Cr  : 9 %\n",
    "# D   : 8 %\n",
    "# Co  : 7.5 %\n",
    "# R   : 4 %\n",
    "# W   : 3 %\n",
    "'''\n",
    "\n",
    "# numpy의 randint를 통해 출현 확률을 기반으로 Symbol을 Return하는 함수\n",
    "\n",
    "def getPlatinumSymbol(start, end):\n",
    "    i = np.random.randint(start, end)\n",
    "    if i <= 27:\n",
    "        return 'Q'\n",
    "    elif i <= 52 and i > 27:\n",
    "        return '10'\n",
    "    elif i <= 76 and i > 52:\n",
    "        return 'K'\n",
    "    elif i <= 99 and i > 76:\n",
    "        return 'A'\n",
    "    elif i <= 118 and i > 99:\n",
    "        return 'J'\n",
    "    elif i <= 137 and i > 118:\n",
    "        return 'Ca'\n",
    "    elif i <= 155 and i > 137:\n",
    "        return 'Cr'\n",
    "    elif i <= 171 and i > 155:\n",
    "        return 'D'\n",
    "    elif i <= 186 and i > 171:\n",
    "        return 'Co'\n",
    "    elif i <= 192 and i > 186:\n",
    "        return 'W'\n",
    "    elif i > 192:\n",
    "        return 'R'\n",
    "\n",
    "# 1회의 Spin 실행을 구현한 함수\n",
    "\n",
    "def spin_platinum():\n",
    "    game = []\n",
    "    start = 1\n",
    "    end = 201\n",
    "    for i in range(15):\n",
    "        if game.count('R') >= 9:\n",
    "            end = 193\n",
    "        game.append(getPlatinumSymbol(start, end))\n",
    "    return game\n",
    "\n",
    "# 플레이 횟수, 배팅 금액을 받아와서 게임을 플레이\n",
    "def playPlatinum(n, bet):\n",
    "    bpl = bet / 30\n",
    "    pay_list = []\n",
    "    while(n):\n",
    "        game = spin_platinum()\n",
    "        pay_list.append(calPlatinumPayline(game, bpl))\n",
    "        n -= 1\n",
    "    return pay_list"
   ]
  },
  {
   "cell_type": "code",
   "execution_count": 308,
   "metadata": {},
   "outputs": [],
   "source": [
    "# 실행 결과를 담을 list\n",
    "simul_result_per_game = []\n",
    "\n",
    "# 2000번의 게임을 실행\n",
    "for i in range(2000):\n",
    "    simul_result_per_game.append(spin_platinum())"
   ]
  },
  {
   "cell_type": "code",
   "execution_count": 309,
   "metadata": {},
   "outputs": [
    {
     "name": "stderr",
     "output_type": "stream",
     "text": [
      "C:\\Users\\Lee\\Anaconda3\\lib\\site-packages\\ipykernel_launcher.py:11: SettingWithCopyWarning: \n",
      "A value is trying to be set on a copy of a slice from a DataFrame.\n",
      "Try using .loc[row_indexer,col_indexer] = value instead\n",
      "\n",
      "See the caveats in the documentation: http://pandas.pydata.org/pandas-docs/stable/indexing.html#indexing-view-versus-copy\n",
      "  # This is added back by InteractiveShellApp.init_path()\n"
     ]
    }
   ],
   "source": [
    "# 실제 게임 플레이 DataFrame을 불러와서 가상 게임플레이 데이터로 변경\n",
    "\n",
    "simul_result = slot_result[['classname', 'game', 'row', 'col']]\n",
    "\n",
    "simul_classname = []\n",
    "\n",
    "for game in simul_result_per_game:\n",
    "    for x in game:\n",
    "        simul_classname.append(x)\n",
    "\n",
    "simul_result['classname'] = simul_classname"
   ]
  },
  {
   "cell_type": "code",
   "execution_count": 310,
   "metadata": {},
   "outputs": [
    {
     "data": {
      "text/html": [
       "<div>\n",
       "<style scoped>\n",
       "    .dataframe tbody tr th:only-of-type {\n",
       "        vertical-align: middle;\n",
       "    }\n",
       "\n",
       "    .dataframe tbody tr th {\n",
       "        vertical-align: top;\n",
       "    }\n",
       "\n",
       "    .dataframe thead th {\n",
       "        text-align: right;\n",
       "    }\n",
       "</style>\n",
       "<table border=\"1\" class=\"dataframe\">\n",
       "  <thead>\n",
       "    <tr style=\"text-align: right;\">\n",
       "      <th></th>\n",
       "      <th>classname</th>\n",
       "      <th>game</th>\n",
       "      <th>row</th>\n",
       "      <th>col</th>\n",
       "    </tr>\n",
       "  </thead>\n",
       "  <tbody>\n",
       "    <tr>\n",
       "      <th>0</th>\n",
       "      <td>K</td>\n",
       "      <td>0</td>\n",
       "      <td>1</td>\n",
       "      <td>1</td>\n",
       "    </tr>\n",
       "    <tr>\n",
       "      <th>1</th>\n",
       "      <td>10</td>\n",
       "      <td>0</td>\n",
       "      <td>2</td>\n",
       "      <td>1</td>\n",
       "    </tr>\n",
       "    <tr>\n",
       "      <th>2</th>\n",
       "      <td>10</td>\n",
       "      <td>0</td>\n",
       "      <td>3</td>\n",
       "      <td>1</td>\n",
       "    </tr>\n",
       "    <tr>\n",
       "      <th>3</th>\n",
       "      <td>Ca</td>\n",
       "      <td>0</td>\n",
       "      <td>1</td>\n",
       "      <td>2</td>\n",
       "    </tr>\n",
       "    <tr>\n",
       "      <th>4</th>\n",
       "      <td>J</td>\n",
       "      <td>0</td>\n",
       "      <td>2</td>\n",
       "      <td>2</td>\n",
       "    </tr>\n",
       "  </tbody>\n",
       "</table>\n",
       "</div>"
      ],
      "text/plain": [
       "  classname  game  row  col\n",
       "0         K     0    1    1\n",
       "1        10     0    2    1\n",
       "2        10     0    3    1\n",
       "3        Ca     0    1    2\n",
       "4         J     0    2    2"
      ]
     },
     "execution_count": 310,
     "metadata": {},
     "output_type": "execute_result"
    }
   ],
   "source": [
    "simul_result.head()"
   ]
  },
  {
   "cell_type": "markdown",
   "metadata": {},
   "source": [
    "## 3-1. 비교 - RICHHITS"
   ]
  },
  {
   "cell_type": "code",
   "execution_count": 311,
   "metadata": {},
   "outputs": [],
   "source": [
    "# 실제 게임의 게임당 RICHHITS 출현 횟수를 담은 list를 생성\n",
    "\n",
    "real_rich_count = []\n",
    "for game in slot_result_per_game:\n",
    "    real_rich_count.append(game.count('R'))"
   ]
  },
  {
   "cell_type": "code",
   "execution_count": 312,
   "metadata": {
    "scrolled": false
   },
   "outputs": [
    {
     "data": {
      "text/plain": [
       "0    1242\n",
       "1     434\n",
       "2     223\n",
       "3      77\n",
       "4      19\n",
       "5       5\n",
       "dtype: int64"
      ]
     },
     "execution_count": 312,
     "metadata": {},
     "output_type": "execute_result"
    }
   ],
   "source": [
    "# 실제 게임의 Spin당 RICHHITS의 출현 갯수\n",
    "\n",
    "pd.Series(real_rich_count).value_counts()"
   ]
  },
  {
   "cell_type": "code",
   "execution_count": 313,
   "metadata": {},
   "outputs": [],
   "source": [
    "# 가상 게임의 게임당 RICHHITS 출현 횟수를 담은 list를 생성\n",
    "\n",
    "simul_rich_count = []\n",
    "for game in simul_result_per_game:\n",
    "    simul_rich_count.append(game.count('R'))"
   ]
  },
  {
   "cell_type": "code",
   "execution_count": 314,
   "metadata": {
    "scrolled": true
   },
   "outputs": [
    {
     "data": {
      "text/plain": [
       "0    1110\n",
       "1     670\n",
       "2     173\n",
       "3      41\n",
       "4       6\n",
       "dtype: int64"
      ]
     },
     "execution_count": 314,
     "metadata": {},
     "output_type": "execute_result"
    }
   ],
   "source": [
    "# 가상 게임의 Spin당 RICHHITS의 출현 갯수\n",
    "\n",
    "pd.Series(simul_rich_count).value_counts()"
   ]
  },
  {
   "cell_type": "code",
   "execution_count": 315,
   "metadata": {},
   "outputs": [],
   "source": [
    "# 비교를 위해 실제, 가상 결과를 담을 DataFrame을 생성\n",
    "\n",
    "df_rich = pd.DataFrame(columns=['rich_count', 'hue'])\n",
    "df_rich['rich_count'] = real_rich_count + simul_rich_count\n",
    "df_rich['hue'] = ['real'] * 2000 + ['simul'] * 2000"
   ]
  },
  {
   "cell_type": "code",
   "execution_count": 316,
   "metadata": {
    "scrolled": false
   },
   "outputs": [
    {
     "data": {
      "image/png": "[encoded data removed]",
      "text/plain": [
       "<Figure size 1440x864 with 1 Axes>"
      ]
     },
     "metadata": {},
     "output_type": "display_data"
    }
   ],
   "source": [
    "# 실제, 가상의 각 게임당 RICHHITS 갯수 시각화\n",
    "\n",
    "plt.figure(figsize=(20,12))\n",
    "sns.countplot(x='rich_count', data=df_rich, hue='hue')\n",
    "plt.show()"
   ]
  },
  {
   "cell_type": "markdown",
   "metadata": {},
   "source": [
    "시각화 결과 시뮬레이션 데이터와 실제 데이터 사이에 어느정도 차이가 있는 것처럼 보인다는 것을 알 수 있습니다. 이 차이가 유의한지 여부를 확인하기 위해 카이제곱 적합도 검정을 사용합니다. 카이제곱 적합도 검정은 범주형 확률분포의 모수 $\\mu=(\\mu_1, \\ldots, \\mu_K)$에 대한 가설을 조사하는 검정 방법입니다. 원래 범주형 값 $k$가 나와야 할 횟수의 기댓값 $m_k$와 실제 나온 횟수 $x_k$의 차이를 이용하여 다음처럼 검정통계량을 구합니다."
   ]
  },
  {
   "cell_type": "markdown",
   "metadata": {},
   "source": [
    "$$\n",
    "\\begin{align}\n",
    "\\sum_{k=1}^K \\dfrac{(x_k - m_k)^2}{m_k}\n",
    "\\end{align}\n",
    "$$"
   ]
  },
  {
   "cell_type": "markdown",
   "metadata": {},
   "source": [
    "###### Hypothesis test 1\n",
    "\n",
    "귀무 가설과 대립 가설은 아래와 같습니다.\n",
    "\n",
    "* H<sub>0</sub>: 시뮬레이션 결과는 실제 결과와 같다\n",
    "* H<sub>1</sub>: 시뮬레이션 결과는 실제 결과와 다르다\n",
    "\n",
    "테스트는 5% 유의 수준에서 수행되었습니다."
   ]
  },
  {
   "cell_type": "code",
   "execution_count": 317,
   "metadata": {},
   "outputs": [
    {
     "data": {
      "text/plain": [
       "Power_divergenceResult(statistic=173.0529453225033, pvalue=2.3129689958094644e-36)"
      ]
     },
     "execution_count": 317,
     "metadata": {},
     "output_type": "execute_result"
    }
   ],
   "source": [
    "length = min(len(pd.Series(real_rich_count).value_counts()), len(pd.Series(simul_rich_count).value_counts()))\n",
    "\n",
    "f_obs = list(pd.Series(real_rich_count).value_counts())[:length]\n",
    "f_exp = list(pd.Series(simul_rich_count).value_counts())[:length]\n",
    "\n",
    "st.chisquare(f_obs, f_exp=f_exp)"
   ]
  },
  {
   "cell_type": "markdown",
   "metadata": {},
   "source": [
    "p-value가 1.3912538539206486e-32로 유의수준 0.05보다 매우 작은 값이므로 기무가설을 기각하고 대립가설을 지지합니다."
   ]
  },
  {
   "cell_type": "markdown",
   "metadata": {},
   "source": [
    "---"
   ]
  },
  {
   "cell_type": "markdown",
   "metadata": {},
   "source": [
    "## 3-2. 비교 - 각 reel 마다 같은 symbol이 나오는 빈도 비교\n",
    "각 reel은 3개의 칸으로 구성되어 있기 때문에\n",
    "1번 유형 / 2-1번 유형 / 2-2번 유형 / 2-3번 유형 / 3번 유형\n",
    "   ●          ●           ●           ○          ●\n",
    "   ●          ●           ○           ●          ○\n",
    "   ●          ○           ●           ●          ◎\n",
    "다음과 같이 symbol이 겹치는 수에 따라 5개의 유형으로 구분지을 수 있습니다.\n"
   ]
  },
  {
   "cell_type": "code",
   "execution_count": 318,
   "metadata": {},
   "outputs": [],
   "source": [
    "def getReelInfo(df, reel):\n",
    "    row_type = []\n",
    "    reel_symbols = []\n",
    "    r_list = []\n",
    "    s = ''\n",
    "    for n, row in enumerate(df[df['col'] == reel]['classname']):\n",
    "        r_list.append(row)\n",
    "        s += row\n",
    "        if not (n + 1) % 3:\n",
    "            if r_list[0] == r_list [1] and r_list[1] == r_list[2]:\n",
    "                row_type.append('1')\n",
    "            elif r_list[0] == r_list[1] and r_list[0] != r_list[2] and r_list[1] != r_list[2]:\n",
    "                row_type.append('2-1')\n",
    "            elif r_list[0] == r_list[2] and r_list[0] != r_list[1] and r_list[2] != r_list[1]:\n",
    "                row_type.append('2-2')\n",
    "            elif r_list[1] == r_list[2] and r_list[1] != r_list[0] and r_list[2] != r_list[0]:\n",
    "                row_type.append('2-3')\n",
    "            else:\n",
    "                row_type.append('3')\n",
    "            r_list = []\n",
    "            reel_symbols.append(s)\n",
    "            s= ''\n",
    "    return row_type, reel_symbols"
   ]
  },
  {
   "cell_type": "code",
   "execution_count": 319,
   "metadata": {},
   "outputs": [],
   "source": [
    "# 실제 게임의 각 reel의 유형, symbol 저장\n",
    "\n",
    "real_reel1_rtype, real_reel1_rsymbols = getReelInfo(slot_result, 1)\n",
    "real_reel2_rtype, real_reel2_rsymbols = getReelInfo(slot_result, 2)\n",
    "real_reel3_rtype, real_reel3_rsymbols = getReelInfo(slot_result, 3)\n",
    "real_reel4_rtype, real_reel4_rsymbols = getReelInfo(slot_result, 4)\n",
    "real_reel5_rtype, real_reel5_rsymbols = getReelInfo(slot_result, 5)\n",
    "\n",
    "real_reel_rtype = real_reel1_rtype + real_reel2_rtype + real_reel3_rtype + real_reel4_rtype + real_reel5_rtype "
   ]
  },
  {
   "cell_type": "code",
   "execution_count": 320,
   "metadata": {},
   "outputs": [],
   "source": [
    "# 가상 게임의 각 reel의 유형, symbol 저장\n",
    "\n",
    "simul_reel1_rtype, simul_reel1_rsymbols = getReelInfo(simul_result, 1)\n",
    "simul_reel2_rtype, simul_reel2_rsymbols = getReelInfo(simul_result, 2)\n",
    "simul_reel3_rtype, simul_reel3_rsymbols = getReelInfo(simul_result, 3)\n",
    "simul_reel4_rtype, simul_reel4_rsymbols = getReelInfo(simul_result, 4)\n",
    "simul_reel5_rtype, simul_reel5_rsymbols = getReelInfo(simul_result, 5)\n",
    "\n",
    "simul_reel_rtype = simul_reel1_rtype + simul_reel2_rtype + simul_reel3_rtype + simul_reel4_rtype + simul_reel5_rtype"
   ]
  },
  {
   "cell_type": "code",
   "execution_count": 328,
   "metadata": {},
   "outputs": [],
   "source": [
    "# 비교를 위해 실제 게임 데이터의 reel_type을 담을 DataFrame을 생성\n",
    "\n",
    "df_rtype = pd.DataFrame(columns=['reel_type', 'reel_num', 'game_type'])\n",
    "df_rtype['reel_type'] = real_reel_rtype + simul_reel_rtype\n",
    "df_rtype['reel_num'] = (['reel_1'] * 2000 + ['reel_2'] * 2000 + ['reel_3'] * 2000 + ['reel_4'] * 2000 + ['reel_5'] * 2000) * 2\n",
    "df_rtype['game_type'] = ['real'] * 10000 + ['simul'] * 10000"
   ]
  },
  {
   "cell_type": "code",
   "execution_count": 322,
   "metadata": {
    "scrolled": false
   },
   "outputs": [
    {
     "data": {
      "image/png": "[encoded data removed]",
      "text/plain": [
       "<Figure size 1440x864 with 1 Axes>"
      ]
     },
     "metadata": {},
     "output_type": "display_data"
    }
   ],
   "source": [
    "# 모든 reel의 reel_type 시각화\n",
    "\n",
    "plt.figure(figsize=(20,12))\n",
    "sns.countplot(x='reel_type', data=df_rtype, order=['3', '2-1', '2-2', '2-3', '1'], hue='game_type')\n",
    "plt.show()"
   ]
  },
  {
   "cell_type": "markdown",
   "metadata": {},
   "source": [
    "시각화 결과 시뮬레이션 결과와 실제 결과 사이에 큰 차이가 있음을 알 수 있습니다. 시뮬레이션의 모델처럼 모든 칸이 독립적이고 설정된 확률대로 Symbol이 등장하게 되면 한 개의 reel에서 3개가 모두 다를 확률(reel_type == 3)은 크고 (약 70%) 모두 같을 확률(reel_type == 1)은 매우 적지만 (약 1%) 실제 게임 결과에서는 3개가 모두 다를 확률은 시뮬레이션 결과보다 더 작고 모두 같을 확률은 훨씬 큰 것으로 나타납니다.\n",
    "\n",
    "또한 2개가 같고 1개는 다른 유형에서도 다른 symbol의 위치에 따라 확률이 서로 다른 것을 확인할 수 있습니다."
   ]
  },
  {
   "cell_type": "code",
   "execution_count": 289,
   "metadata": {
    "scrolled": false
   },
   "outputs": [
    {
     "data": {
      "image/png": "[encoded data removed]",
      "text/plain": [
       "<Figure size 1440x864 with 1 Axes>"
      ]
     },
     "metadata": {},
     "output_type": "display_data"
    }
   ],
   "source": [
    "# 각 reel_num 별 reel_type 시각화\n",
    "\n",
    "plt.figure(figsize=(20,12))\n",
    "sns.countplot(x='reel_type', data=df_rtype[df_rtype['game_type']=='real'], hue='reel_num', order=['3', '2-1', '2-2', '2-3', '1'])\n",
    "plt.show()"
   ]
  },
  {
   "cell_type": "markdown",
   "metadata": {},
   "source": [
    "5개의 reel 별로 시각화를 한 결과 reel에 따라서도 각 유형의 확률이 다른 것을 알 수 있습니다.\n",
    "\n",
    "따라서 게임의 모델을 보완할 때 각 reel_type의 출현 확률, 각 reel별 확률을 고려할 필요가 있음을 알 수 있습니다."
   ]
  },
  {
   "cell_type": "markdown",
   "metadata": {},
   "source": [
    "---"
   ]
  },
  {
   "cell_type": "markdown",
   "metadata": {},
   "source": [
    "## 3.3 비교 - 한 번의 spin마다 등장하는 symbol의 개수 비교"
   ]
  },
  {
   "cell_type": "code",
   "execution_count": 337,
   "metadata": {},
   "outputs": [],
   "source": [
    "# 실제 게임의 게임당 unique symbol의 개수를 담은 list를 생성\n",
    "\n",
    "real_unique_count = []\n",
    "\n",
    "for i in range(2000):\n",
    "    real_unique_count.append(len(set(slot_result_per_game[i])))"
   ]
  },
  {
   "cell_type": "code",
   "execution_count": 339,
   "metadata": {},
   "outputs": [],
   "source": [
    "# 가상 게임의 게임당 unique symbol의 개수를 담은 list를 생성\n",
    "\n",
    "simul_unique_count = []\n",
    "\n",
    "for i in range(2000):\n",
    "    simul_unique_count.append(len(set(simul_result_per_game[i])))"
   ]
  },
  {
   "cell_type": "code",
   "execution_count": 369,
   "metadata": {
    "scrolled": true
   },
   "outputs": [],
   "source": [
    "df_unique_count = pd.DataFrame(columns=['unique_count', 'game_type'])\n",
    "df_unique_count['unique_count'] = real_unique_count + simul_unique_count\n",
    "df_unique_count['game_type'] = ['real'] * len(real_unique_count) + ['simul'] * len(simul_unique_count)"
   ]
  },
  {
   "cell_type": "code",
   "execution_count": 371,
   "metadata": {},
   "outputs": [
    {
     "data": {
      "image/png": "[encoded data removed]",
      "text/plain": [
       "<Figure size 1440x864 with 1 Axes>"
      ]
     },
     "metadata": {},
     "output_type": "display_data"
    }
   ],
   "source": [
    "plt.figure(figsize=(20,12))\n",
    "sns.countplot(x='unique_count', data=df_unique_count, hue='game_type')\n",
    "plt.show()"
   ]
  },
  {
   "cell_type": "code",
   "execution_count": null,
   "metadata": {},
   "outputs": [],
   "source": []
  }
 ],
 "metadata": {
  "kernelspec": {
   "display_name": "Python 3",
   "language": "python",
   "name": "python3"
  },
  "language_info": {
   "codemirror_mode": {
    "name": "ipython",
    "version": 3
   },
   "file_extension": ".py",
   "mimetype": "text/x-python",
   "name": "python",
   "nbconvert_exporter": "python",
   "pygments_lexer": "ipython3",
   "version": "3.6.8"
  }
 },
 "nbformat": 4,
 "nbformat_minor": 2
}
