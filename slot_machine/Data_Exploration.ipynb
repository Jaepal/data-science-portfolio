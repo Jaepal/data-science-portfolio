{
 "cells": [
  {
   "cell_type": "markdown",
   "metadata": {},
   "source": [
    "# Exploring Slot Machine Data"
   ]
  },
  {
   "cell_type": "code",
   "execution_count": 27,
   "metadata": {},
   "outputs": [],
   "source": [
    "# 필요한 패키지 불러오기\n",
    "\n",
    "import pandas as pd\n",
    "import matplotlib.pyplot as plt\n",
    "import numpy as np\n",
    "import seaborn as sns\n",
    "\n",
    "%matplotlib inline"
   ]
  },
  {
   "cell_type": "code",
   "execution_count": 69,
   "metadata": {},
   "outputs": [],
   "source": [
    "labels = ['10', 'J', 'Q', 'K', 'A', 'Ca', 'Co', 'D', 'Cr', 'W', 'R']"
   ]
  },
  {
   "cell_type": "code",
   "execution_count": 10,
   "metadata": {},
   "outputs": [
    {
     "data": {
      "text/html": [
       "<div>\n",
       "<style scoped>\n",
       "    .dataframe tbody tr th:only-of-type {\n",
       "        vertical-align: middle;\n",
       "    }\n",
       "\n",
       "    .dataframe tbody tr th {\n",
       "        vertical-align: top;\n",
       "    }\n",
       "\n",
       "    .dataframe thead th {\n",
       "        text-align: right;\n",
       "    }\n",
       "</style>\n",
       "<table border=\"1\" class=\"dataframe\">\n",
       "  <thead>\n",
       "    <tr style=\"text-align: right;\">\n",
       "      <th></th>\n",
       "      <th>img</th>\n",
       "      <th>classname</th>\n",
       "    </tr>\n",
       "  </thead>\n",
       "  <tbody>\n",
       "    <tr>\n",
       "      <th>0</th>\n",
       "      <td>platinum_0_0.jpg</td>\n",
       "      <td>Ca</td>\n",
       "    </tr>\n",
       "    <tr>\n",
       "      <th>1</th>\n",
       "      <td>platinum_0_1.jpg</td>\n",
       "      <td>A</td>\n",
       "    </tr>\n",
       "    <tr>\n",
       "      <th>2</th>\n",
       "      <td>platinum_0_2.jpg</td>\n",
       "      <td>Q</td>\n",
       "    </tr>\n",
       "    <tr>\n",
       "      <th>3</th>\n",
       "      <td>platinum_0_3.jpg</td>\n",
       "      <td>W</td>\n",
       "    </tr>\n",
       "    <tr>\n",
       "      <th>4</th>\n",
       "      <td>platinum_0_4.jpg</td>\n",
       "      <td>A</td>\n",
       "    </tr>\n",
       "  </tbody>\n",
       "</table>\n",
       "</div>"
      ],
      "text/plain": [
       "                img classname\n",
       "0  platinum_0_0.jpg        Ca\n",
       "1  platinum_0_1.jpg         A\n",
       "2  platinum_0_2.jpg         Q\n",
       "3  platinum_0_3.jpg         W\n",
       "4  platinum_0_4.jpg         A"
      ]
     },
     "execution_count": 10,
     "metadata": {},
     "output_type": "execute_result"
    }
   ],
   "source": [
    "# csv 파일 불러오기\n",
    "\n",
    "slot_result = pd.read_csv('../data/slot_machine/platinum_csv/pl_all.csv')\n",
    "slot_result.head()"
   ]
  },
  {
   "cell_type": "code",
   "execution_count": 11,
   "metadata": {},
   "outputs": [],
   "source": [
    "# 각 칸의 결과마다 game, row, col column 생성\n",
    "\n",
    "slot_result_game = [int(i_name.split('_')[1]) for n, i_name in enumerate(slot_result['img'])]\n",
    "slot_result_row = [int(i_name.split('_')[2].split('.')[0]) % 3 + 1 for n, i_name in enumerate(slot_result['img'])]\n",
    "slot_result_col = [int(i_name.split('_')[2].split('.')[0]) // 3 + 1 for n, i_name in enumerate(slot_result['img'])]"
   ]
  },
  {
   "cell_type": "code",
   "execution_count": 12,
   "metadata": {
    "scrolled": false
   },
   "outputs": [
    {
     "data": {
      "text/html": [
       "<div>\n",
       "<style scoped>\n",
       "    .dataframe tbody tr th:only-of-type {\n",
       "        vertical-align: middle;\n",
       "    }\n",
       "\n",
       "    .dataframe tbody tr th {\n",
       "        vertical-align: top;\n",
       "    }\n",
       "\n",
       "    .dataframe thead th {\n",
       "        text-align: right;\n",
       "    }\n",
       "</style>\n",
       "<table border=\"1\" class=\"dataframe\">\n",
       "  <thead>\n",
       "    <tr style=\"text-align: right;\">\n",
       "      <th></th>\n",
       "      <th>img</th>\n",
       "      <th>classname</th>\n",
       "      <th>game</th>\n",
       "      <th>row</th>\n",
       "      <th>col</th>\n",
       "    </tr>\n",
       "  </thead>\n",
       "  <tbody>\n",
       "    <tr>\n",
       "      <th>0</th>\n",
       "      <td>platinum_0_0.jpg</td>\n",
       "      <td>Ca</td>\n",
       "      <td>0</td>\n",
       "      <td>1</td>\n",
       "      <td>1</td>\n",
       "    </tr>\n",
       "    <tr>\n",
       "      <th>1</th>\n",
       "      <td>platinum_0_1.jpg</td>\n",
       "      <td>A</td>\n",
       "      <td>0</td>\n",
       "      <td>2</td>\n",
       "      <td>1</td>\n",
       "    </tr>\n",
       "    <tr>\n",
       "      <th>2</th>\n",
       "      <td>platinum_0_2.jpg</td>\n",
       "      <td>Q</td>\n",
       "      <td>0</td>\n",
       "      <td>3</td>\n",
       "      <td>1</td>\n",
       "    </tr>\n",
       "    <tr>\n",
       "      <th>3</th>\n",
       "      <td>platinum_0_3.jpg</td>\n",
       "      <td>W</td>\n",
       "      <td>0</td>\n",
       "      <td>1</td>\n",
       "      <td>2</td>\n",
       "    </tr>\n",
       "    <tr>\n",
       "      <th>4</th>\n",
       "      <td>platinum_0_4.jpg</td>\n",
       "      <td>A</td>\n",
       "      <td>0</td>\n",
       "      <td>2</td>\n",
       "      <td>2</td>\n",
       "    </tr>\n",
       "    <tr>\n",
       "      <th>5</th>\n",
       "      <td>platinum_0_5.jpg</td>\n",
       "      <td>A</td>\n",
       "      <td>0</td>\n",
       "      <td>3</td>\n",
       "      <td>2</td>\n",
       "    </tr>\n",
       "    <tr>\n",
       "      <th>6</th>\n",
       "      <td>platinum_0_6.jpg</td>\n",
       "      <td>10</td>\n",
       "      <td>0</td>\n",
       "      <td>1</td>\n",
       "      <td>3</td>\n",
       "    </tr>\n",
       "    <tr>\n",
       "      <th>7</th>\n",
       "      <td>platinum_0_7.jpg</td>\n",
       "      <td>Cr</td>\n",
       "      <td>0</td>\n",
       "      <td>2</td>\n",
       "      <td>3</td>\n",
       "    </tr>\n",
       "    <tr>\n",
       "      <th>8</th>\n",
       "      <td>platinum_0_8.jpg</td>\n",
       "      <td>Co</td>\n",
       "      <td>0</td>\n",
       "      <td>3</td>\n",
       "      <td>3</td>\n",
       "    </tr>\n",
       "    <tr>\n",
       "      <th>9</th>\n",
       "      <td>platinum_0_9.jpg</td>\n",
       "      <td>10</td>\n",
       "      <td>0</td>\n",
       "      <td>1</td>\n",
       "      <td>4</td>\n",
       "    </tr>\n",
       "    <tr>\n",
       "      <th>10</th>\n",
       "      <td>platinum_0_10.jpg</td>\n",
       "      <td>Co</td>\n",
       "      <td>0</td>\n",
       "      <td>2</td>\n",
       "      <td>4</td>\n",
       "    </tr>\n",
       "    <tr>\n",
       "      <th>11</th>\n",
       "      <td>platinum_0_11.jpg</td>\n",
       "      <td>10</td>\n",
       "      <td>0</td>\n",
       "      <td>3</td>\n",
       "      <td>4</td>\n",
       "    </tr>\n",
       "    <tr>\n",
       "      <th>12</th>\n",
       "      <td>platinum_0_12.jpg</td>\n",
       "      <td>10</td>\n",
       "      <td>0</td>\n",
       "      <td>1</td>\n",
       "      <td>5</td>\n",
       "    </tr>\n",
       "    <tr>\n",
       "      <th>13</th>\n",
       "      <td>platinum_0_13.jpg</td>\n",
       "      <td>A</td>\n",
       "      <td>0</td>\n",
       "      <td>2</td>\n",
       "      <td>5</td>\n",
       "    </tr>\n",
       "    <tr>\n",
       "      <th>14</th>\n",
       "      <td>platinum_0_14.jpg</td>\n",
       "      <td>J</td>\n",
       "      <td>0</td>\n",
       "      <td>3</td>\n",
       "      <td>5</td>\n",
       "    </tr>\n",
       "  </tbody>\n",
       "</table>\n",
       "</div>"
      ],
      "text/plain": [
       "                  img classname  game  row  col\n",
       "0    platinum_0_0.jpg        Ca     0    1    1\n",
       "1    platinum_0_1.jpg         A     0    2    1\n",
       "2    platinum_0_2.jpg         Q     0    3    1\n",
       "3    platinum_0_3.jpg         W     0    1    2\n",
       "4    platinum_0_4.jpg         A     0    2    2\n",
       "5    platinum_0_5.jpg         A     0    3    2\n",
       "6    platinum_0_6.jpg        10     0    1    3\n",
       "7    platinum_0_7.jpg        Cr     0    2    3\n",
       "8    platinum_0_8.jpg        Co     0    3    3\n",
       "9    platinum_0_9.jpg        10     0    1    4\n",
       "10  platinum_0_10.jpg        Co     0    2    4\n",
       "11  platinum_0_11.jpg        10     0    3    4\n",
       "12  platinum_0_12.jpg        10     0    1    5\n",
       "13  platinum_0_13.jpg         A     0    2    5\n",
       "14  platinum_0_14.jpg         J     0    3    5"
      ]
     },
     "execution_count": 12,
     "metadata": {},
     "output_type": "execute_result"
    }
   ],
   "source": [
    "slot_result['game'] = slot_result_game\n",
    "slot_result['row'] = slot_result_row\n",
    "slot_result['col'] = slot_result_col\n",
    "\n",
    "slot_result.head(15)"
   ]
  },
  {
   "cell_type": "code",
   "execution_count": 31,
   "metadata": {},
   "outputs": [],
   "source": [
    "tmp = []\n",
    "slot_result_per_game = []\n",
    "for n, x in enumerate(slot_result['classname']):\n",
    "    tmp.append(x)\n",
    "    if (n+1) % 15 == 0:\n",
    "        slot_result_per_game.append(tmp)\n",
    "        tmp = []"
   ]
  },
  {
   "cell_type": "markdown",
   "metadata": {},
   "source": [
    "## Simulation 데이터 생성"
   ]
  },
  {
   "cell_type": "code",
   "execution_count": 33,
   "metadata": {},
   "outputs": [],
   "source": [
    "def getPlatinumColType():\n",
    "    i = np.random.randint(1, 201)\n",
    "    if i <= 109:\n",
    "        return 3\n",
    "    elif i <= 186 and i > 109:\n",
    "        return 2\n",
    "    elif i > 186:\n",
    "        return 1\n",
    "\n",
    "def getPlatinumSymbol(start, end):\n",
    "    i = np.random.randint(start, end)\n",
    "    if i <= 27:\n",
    "        return 'Q'\n",
    "    elif i <= 52 and i > 27:\n",
    "        return '10'\n",
    "    elif i <= 76 and i > 52:\n",
    "        return 'K'\n",
    "    elif i <= 99 and i > 76:\n",
    "        return 'A'\n",
    "    elif i <= 118 and i > 99:\n",
    "        return 'J'\n",
    "    elif i <= 137 and i > 118:\n",
    "        return 'Ca'\n",
    "    elif i <= 155 and i > 137:\n",
    "        return 'Cr'\n",
    "    elif i <= 171 and i > 155:\n",
    "        return 'D'\n",
    "    elif i <= 186 and i > 171:\n",
    "        return 'Co'\n",
    "    elif i <= 192 and i > 186:\n",
    "        return 'W'\n",
    "    elif i > 192:\n",
    "        return 'R'\n",
    "\n",
    "def spin_platinum():\n",
    "    game = []\n",
    "    start = 1\n",
    "    end = 201\n",
    "    for i in range(5):\n",
    "        tmp = []\n",
    "        if game.count('R') >= 9:\n",
    "            end = 193\n",
    "        col_type = getPlatinumColType()\n",
    "        if col_type == 3:\n",
    "            for i in range(col_type):\n",
    "                tmp.append(getPlatinumSymbol(start, end))\n",
    "        elif col_type == 2:\n",
    "            tmp.extend([getPlatinumSymbol(start, end)]*2)\n",
    "            tmp.append(getPlatinumSymbol(start, end))\n",
    "            np.random.shuffle(tmp)\n",
    "        else:\n",
    "            tmp.extend([getPlatinumSymbol(start, end)]*3)\n",
    "        game.extend(tmp)\n",
    "    return game"
   ]
  },
  {
   "cell_type": "code",
   "execution_count": 40,
   "metadata": {},
   "outputs": [],
   "source": [
    "simul_result_per_game = []\n",
    "for i in range(2000):\n",
    "    simul_result_per_game.append(spin_platinum())"
   ]
  },
  {
   "cell_type": "code",
   "execution_count": 37,
   "metadata": {},
   "outputs": [],
   "source": [
    "simul_result = slot_result[['classname', 'game', 'row', 'col']]"
   ]
  },
  {
   "cell_type": "code",
   "execution_count": 38,
   "metadata": {
    "scrolled": true
   },
   "outputs": [
    {
     "data": {
      "text/html": [
       "<div>\n",
       "<style scoped>\n",
       "    .dataframe tbody tr th:only-of-type {\n",
       "        vertical-align: middle;\n",
       "    }\n",
       "\n",
       "    .dataframe tbody tr th {\n",
       "        vertical-align: top;\n",
       "    }\n",
       "\n",
       "    .dataframe thead th {\n",
       "        text-align: right;\n",
       "    }\n",
       "</style>\n",
       "<table border=\"1\" class=\"dataframe\">\n",
       "  <thead>\n",
       "    <tr style=\"text-align: right;\">\n",
       "      <th></th>\n",
       "      <th>classname</th>\n",
       "      <th>game</th>\n",
       "      <th>row</th>\n",
       "      <th>col</th>\n",
       "    </tr>\n",
       "  </thead>\n",
       "  <tbody>\n",
       "    <tr>\n",
       "      <th>0</th>\n",
       "      <td>Ca</td>\n",
       "      <td>0</td>\n",
       "      <td>1</td>\n",
       "      <td>1</td>\n",
       "    </tr>\n",
       "    <tr>\n",
       "      <th>1</th>\n",
       "      <td>A</td>\n",
       "      <td>0</td>\n",
       "      <td>2</td>\n",
       "      <td>1</td>\n",
       "    </tr>\n",
       "    <tr>\n",
       "      <th>2</th>\n",
       "      <td>Q</td>\n",
       "      <td>0</td>\n",
       "      <td>3</td>\n",
       "      <td>1</td>\n",
       "    </tr>\n",
       "    <tr>\n",
       "      <th>3</th>\n",
       "      <td>W</td>\n",
       "      <td>0</td>\n",
       "      <td>1</td>\n",
       "      <td>2</td>\n",
       "    </tr>\n",
       "    <tr>\n",
       "      <th>4</th>\n",
       "      <td>A</td>\n",
       "      <td>0</td>\n",
       "      <td>2</td>\n",
       "      <td>2</td>\n",
       "    </tr>\n",
       "  </tbody>\n",
       "</table>\n",
       "</div>"
      ],
      "text/plain": [
       "  classname  game  row  col\n",
       "0        Ca     0    1    1\n",
       "1         A     0    2    1\n",
       "2         Q     0    3    1\n",
       "3         W     0    1    2\n",
       "4         A     0    2    2"
      ]
     },
     "execution_count": 38,
     "metadata": {},
     "output_type": "execute_result"
    }
   ],
   "source": [
    "simul_result.head()"
   ]
  },
  {
   "cell_type": "code",
   "execution_count": 41,
   "metadata": {},
   "outputs": [],
   "source": [
    "simul_classname = []\n",
    "\n",
    "for game in simul_result_per_game:\n",
    "    for x in game:\n",
    "        simul_classname.append(x)"
   ]
  },
  {
   "cell_type": "code",
   "execution_count": 44,
   "metadata": {
    "scrolled": true
   },
   "outputs": [
    {
     "name": "stderr",
     "output_type": "stream",
     "text": [
      "C:\\Users\\Lee\\Anaconda3\\lib\\site-packages\\ipykernel_launcher.py:1: SettingWithCopyWarning: \n",
      "A value is trying to be set on a copy of a slice from a DataFrame.\n",
      "Try using .loc[row_indexer,col_indexer] = value instead\n",
      "\n",
      "See the caveats in the documentation: http://pandas.pydata.org/pandas-docs/stable/indexing.html#indexing-view-versus-copy\n",
      "  \"\"\"Entry point for launching an IPython kernel.\n"
     ]
    }
   ],
   "source": [
    "simul_result['classname'] = simul_classname"
   ]
  },
  {
   "cell_type": "code",
   "execution_count": 45,
   "metadata": {},
   "outputs": [
    {
     "data": {
      "text/html": [
       "<div>\n",
       "<style scoped>\n",
       "    .dataframe tbody tr th:only-of-type {\n",
       "        vertical-align: middle;\n",
       "    }\n",
       "\n",
       "    .dataframe tbody tr th {\n",
       "        vertical-align: top;\n",
       "    }\n",
       "\n",
       "    .dataframe thead th {\n",
       "        text-align: right;\n",
       "    }\n",
       "</style>\n",
       "<table border=\"1\" class=\"dataframe\">\n",
       "  <thead>\n",
       "    <tr style=\"text-align: right;\">\n",
       "      <th></th>\n",
       "      <th>classname</th>\n",
       "      <th>game</th>\n",
       "      <th>row</th>\n",
       "      <th>col</th>\n",
       "    </tr>\n",
       "  </thead>\n",
       "  <tbody>\n",
       "    <tr>\n",
       "      <th>0</th>\n",
       "      <td>Ca</td>\n",
       "      <td>0</td>\n",
       "      <td>1</td>\n",
       "      <td>1</td>\n",
       "    </tr>\n",
       "    <tr>\n",
       "      <th>1</th>\n",
       "      <td>Co</td>\n",
       "      <td>0</td>\n",
       "      <td>2</td>\n",
       "      <td>1</td>\n",
       "    </tr>\n",
       "    <tr>\n",
       "      <th>2</th>\n",
       "      <td>Co</td>\n",
       "      <td>0</td>\n",
       "      <td>3</td>\n",
       "      <td>1</td>\n",
       "    </tr>\n",
       "    <tr>\n",
       "      <th>3</th>\n",
       "      <td>K</td>\n",
       "      <td>0</td>\n",
       "      <td>1</td>\n",
       "      <td>2</td>\n",
       "    </tr>\n",
       "    <tr>\n",
       "      <th>4</th>\n",
       "      <td>K</td>\n",
       "      <td>0</td>\n",
       "      <td>2</td>\n",
       "      <td>2</td>\n",
       "    </tr>\n",
       "  </tbody>\n",
       "</table>\n",
       "</div>"
      ],
      "text/plain": [
       "  classname  game  row  col\n",
       "0        Ca     0    1    1\n",
       "1        Co     0    2    1\n",
       "2        Co     0    3    1\n",
       "3         K     0    1    2\n",
       "4         K     0    2    2"
      ]
     },
     "execution_count": 45,
     "metadata": {},
     "output_type": "execute_result"
    }
   ],
   "source": [
    "simul_result.head()"
   ]
  },
  {
   "cell_type": "markdown",
   "metadata": {},
   "source": [
    "## 1. 비교 - RICHHITS"
   ]
  },
  {
   "cell_type": "code",
   "execution_count": 54,
   "metadata": {},
   "outputs": [],
   "source": [
    "r_count_r = []\n",
    "for game in slot_result_per_game:\n",
    "    r_count_r.append(game.count('R'))"
   ]
  },
  {
   "cell_type": "code",
   "execution_count": 55,
   "metadata": {
    "scrolled": false
   },
   "outputs": [
    {
     "data": {
      "text/plain": [
       "0    1242\n",
       "1     434\n",
       "2     223\n",
       "3      77\n",
       "4      19\n",
       "5       5\n",
       "dtype: int64"
      ]
     },
     "execution_count": 55,
     "metadata": {},
     "output_type": "execute_result"
    }
   ],
   "source": [
    "pd.Series(r_count_r).value_counts()"
   ]
  },
  {
   "cell_type": "code",
   "execution_count": 49,
   "metadata": {},
   "outputs": [],
   "source": [
    "r_count_s = []\n",
    "for game in simul_result_per_game:\n",
    "    r_count_s.append(game.count('R'))"
   ]
  },
  {
   "cell_type": "code",
   "execution_count": 50,
   "metadata": {
    "scrolled": false
   },
   "outputs": [
    {
     "data": {
      "text/plain": [
       "0    1223\n",
       "1     484\n",
       "2     204\n",
       "3      72\n",
       "4      13\n",
       "6       2\n",
       "5       2\n",
       "dtype: int64"
      ]
     },
     "execution_count": 50,
     "metadata": {},
     "output_type": "execute_result"
    }
   ],
   "source": [
    "pd.Series(r_count_s).value_counts()"
   ]
  },
  {
   "cell_type": "code",
   "execution_count": 56,
   "metadata": {},
   "outputs": [],
   "source": [
    "df_rich = pd.DataFrame(columns=['r_count', 'hue'])\n",
    "df_rich['r_count'] = r_count_r + r_count_s\n",
    "df_rich['hue'] = ['real'] * 2000 + ['simul'] * 2000"
   ]
  },
  {
   "cell_type": "code",
   "execution_count": 58,
   "metadata": {
    "scrolled": true
   },
   "outputs": [
    {
     "data": {
      "image/png": "[encoded data removed]",
      "text/plain": [
       "<Figure size 1440x864 with 1 Axes>"
      ]
     },
     "metadata": {},
     "output_type": "display_data"
    }
   ],
   "source": [
    "plt.figure(figsize=(20,12))\n",
    "sns.countplot(x='r_count', data=df_rich, hue='hue')\n",
    "plt.show()"
   ]
  },
  {
   "cell_type": "markdown",
   "metadata": {},
   "source": [
    "## 2. 비교 - 각 Symbol의 출현 확률"
   ]
  },
  {
   "cell_type": "code",
   "execution_count": 59,
   "metadata": {},
   "outputs": [
    {
     "data": {
      "text/plain": [
       "Q     13.236667\n",
       "10    12.553333\n",
       "K     12.073333\n",
       "A     11.506667\n",
       "J      9.543333\n",
       "Ca     9.520000\n",
       "Cr     8.760000\n",
       "D      8.026667\n",
       "Co     7.576667\n",
       "R      4.040000\n",
       "W      3.163333\n",
       "Name: classname, dtype: float64"
      ]
     },
     "execution_count": 59,
     "metadata": {},
     "output_type": "execute_result"
    }
   ],
   "source": [
    "slot_result['classname'].value_counts() / len(slot_result) * 100"
   ]
  },
  {
   "cell_type": "code",
   "execution_count": 60,
   "metadata": {
    "scrolled": false
   },
   "outputs": [
    {
     "data": {
      "image/png": "[encoded data removed]",
      "text/plain": [
       "<Figure size 1440x864 with 1 Axes>"
      ]
     },
     "metadata": {},
     "output_type": "display_data"
    }
   ],
   "source": [
    "# 각 칸에서의 출현 확률\n",
    "\n",
    "plt.figure(figsize=(20,12))\n",
    "sns.barplot(x=slot_result['classname'].value_counts().index, y=slot_result['classname'].value_counts() / len(slot_result))\n",
    "plt.show()"
   ]
  },
  {
   "cell_type": "code",
   "execution_count": 61,
   "metadata": {
    "scrolled": true
   },
   "outputs": [
    {
     "data": {
      "text/plain": [
       "Q     13.563333\n",
       "10    12.530000\n",
       "K     11.786667\n",
       "A     11.743333\n",
       "J      9.606667\n",
       "Ca     9.286667\n",
       "Cr     9.076667\n",
       "D      8.130000\n",
       "Co     7.420000\n",
       "R      3.940000\n",
       "W      2.916667\n",
       "Name: classname, dtype: float64"
      ]
     },
     "execution_count": 61,
     "metadata": {},
     "output_type": "execute_result"
    }
   ],
   "source": [
    "simul_result['classname'].value_counts() / len(simul_result) * 100"
   ]
  },
  {
   "cell_type": "code",
   "execution_count": 62,
   "metadata": {
    "scrolled": false
   },
   "outputs": [
    {
     "data": {
      "image/png": "[encoded data removed]",
      "text/plain": [
       "<Figure size 1440x864 with 1 Axes>"
      ]
     },
     "metadata": {},
     "output_type": "display_data"
    }
   ],
   "source": [
    "# 각 칸에서의 출현 확률\n",
    "\n",
    "plt.figure(figsize=(20,12))\n",
    "sns.barplot(x=simul_result['classname'].value_counts().index, y=simul_result['classname'].value_counts() / len(simul_result))\n",
    "plt.show()"
   ]
  },
  {
   "cell_type": "code",
   "execution_count": 70,
   "metadata": {
    "scrolled": false
   },
   "outputs": [
    {
     "data": {
      "image/png": "[encoded data removed]",
      "text/plain": [
       "<Figure size 1440x864 with 1 Axes>"
      ]
     },
     "metadata": {},
     "output_type": "display_data"
    }
   ],
   "source": [
    "# 각 reel별 출현 횟수 시각화\n",
    "\n",
    "plt.figure(figsize=(20,12))\n",
    "sns.countplot(x='classname', data=slot_result, hue='col', order=labels)\n",
    "plt.show()"
   ]
  },
  {
   "cell_type": "code",
   "execution_count": 72,
   "metadata": {},
   "outputs": [
    {
     "data": {
      "image/png": "[encoded data removed]",
      "text/plain": [
       "<Figure size 1440x864 with 1 Axes>"
      ]
     },
     "metadata": {},
     "output_type": "display_data"
    }
   ],
   "source": [
    "plt.figure(figsize=(20,12))\n",
    "sns.countplot(x='classname', data=simul_result, hue='col', order=labels)\n",
    "plt.show()"
   ]
  },
  {
   "cell_type": "markdown",
   "metadata": {},
   "source": [
    "## 3. 비교 - 각 reel 마다 col_type 출현 빈도"
   ]
  },
  {
   "cell_type": "code",
   "execution_count": 84,
   "metadata": {},
   "outputs": [],
   "source": [
    "def getReelInfo(df, reel):\n",
    "    row_type = []\n",
    "    reel_symbols = []\n",
    "    r_list = []\n",
    "    s = ''\n",
    "    for n, row in enumerate(df[df['col'] == reel]['classname']):\n",
    "        r_list.append(row)\n",
    "        s += row\n",
    "        if not (n + 1) % 3:\n",
    "            if r_list[0] == r_list [1] and r_list[1] == r_list[2]:\n",
    "                row_type.append('1')\n",
    "            elif r_list[0] == r_list[1] and r_list[0] != r_list[2] and r_list[1] != r_list[2]:\n",
    "                row_type.append('2-1')\n",
    "            elif r_list[0] == r_list[2] and r_list[0] != r_list[1] and r_list[2] != r_list[1]:\n",
    "                row_type.append('2-2')\n",
    "            elif r_list[1] == r_list[2] and r_list[1] != r_list[0] and r_list[2] != r_list[0]:\n",
    "                row_type.append('2-3')\n",
    "            else:\n",
    "                row_type.append('3')\n",
    "            r_list = []\n",
    "            reel_symbols.append(s)\n",
    "            s= ''\n",
    "    return row_type, reel_symbols"
   ]
  },
  {
   "cell_type": "code",
   "execution_count": 95,
   "metadata": {},
   "outputs": [],
   "source": [
    "rt1_r, rs1_r = getReelInfo(slot_result, 1)\n",
    "rt2_r, rs2_r = getReelInfo(slot_result, 2)\n",
    "rt3_r, rs3_r = getReelInfo(slot_result, 3)\n",
    "rt4_r, rs4_r = getReelInfo(slot_result, 4)\n",
    "rt5_r, rs5_r = getReelInfo(slot_result, 5)"
   ]
  },
  {
   "cell_type": "code",
   "execution_count": 104,
   "metadata": {},
   "outputs": [],
   "source": [
    "rt1_s, rs1_s = getReelInfo(simul_result, 1)\n",
    "rt2_s, rs2_s = getReelInfo(simul_result, 2)\n",
    "rt3_s, rs3_s = getReelInfo(simul_result, 3)\n",
    "rt4_s, rs4_s = getReelInfo(simul_result, 4)\n",
    "rt5_s, rs5_s = getReelInfo(simul_result, 5)"
   ]
  },
  {
   "cell_type": "code",
   "execution_count": 101,
   "metadata": {},
   "outputs": [],
   "source": [
    "df_coltype = pd.DataFrame(columns=['col_type', 'hue'])\n",
    "df_coltype['col_type'] = rt1_r + rt2_r + rt3_r + rt4_r + rt5_r\n",
    "df_coltype['hue'] = ['reel_1'] * 2000 + ['reel_2'] * 2000 + ['reel_3'] * 2000 + ['reel_4'] * 2000 + ['reel_5'] * 2000"
   ]
  },
  {
   "cell_type": "code",
   "execution_count": 107,
   "metadata": {},
   "outputs": [
    {
     "data": {
      "image/png": "[encoded data removed]",
      "text/plain": [
       "<Figure size 1440x864 with 1 Axes>"
      ]
     },
     "metadata": {},
     "output_type": "display_data"
    }
   ],
   "source": [
    "plt.figure(figsize=(20,12))\n",
    "sns.countplot(x='col_type', data=df_coltype, order=['3', '2-1', '2-2', '2-3', '1'])\n",
    "plt.show()"
   ]
  },
  {
   "cell_type": "code",
   "execution_count": 103,
   "metadata": {},
   "outputs": [
    {
     "data": {
      "image/png": "[encoded data removed]",
      "text/plain": [
       "<Figure size 1440x864 with 1 Axes>"
      ]
     },
     "metadata": {},
     "output_type": "display_data"
    }
   ],
   "source": [
    "plt.figure(figsize=(20,12))\n",
    "sns.countplot(x='col_type', data=df_coltype, hue='hue', order=['3', '2-1', '2-2', '2-3', '1'])\n",
    "plt.show()"
   ]
  },
  {
   "cell_type": "code",
   "execution_count": 111,
   "metadata": {
    "scrolled": false
   },
   "outputs": [
    {
     "data": {
      "text/plain": [
       "3      54.40\n",
       "2-1    20.95\n",
       "2-2     8.90\n",
       "2-3     8.65\n",
       "1       7.10\n",
       "dtype: float64"
      ]
     },
     "execution_count": 111,
     "metadata": {},
     "output_type": "execute_result"
    }
   ],
   "source": [
    "pd.Series(rt1_r).value_counts() / len(rt1_r) * 100"
   ]
  },
  {
   "cell_type": "code",
   "execution_count": 112,
   "metadata": {
    "scrolled": true
   },
   "outputs": [
    {
     "data": {
      "text/plain": [
       "3      44.00\n",
       "2-3    22.50\n",
       "2-1    19.60\n",
       "1       8.65\n",
       "2-2     5.25\n",
       "dtype: float64"
      ]
     },
     "execution_count": 112,
     "metadata": {},
     "output_type": "execute_result"
    }
   ],
   "source": [
    "pd.Series(rt2_r).value_counts() / len(rt2_r) * 100"
   ]
  },
  {
   "cell_type": "code",
   "execution_count": 113,
   "metadata": {},
   "outputs": [
    {
     "data": {
      "text/plain": [
       "3      46.45\n",
       "2-3    19.55\n",
       "2-1    16.20\n",
       "1      11.70\n",
       "2-2     6.10\n",
       "dtype: float64"
      ]
     },
     "execution_count": 113,
     "metadata": {},
     "output_type": "execute_result"
    }
   ],
   "source": [
    "pd.Series(rt3_r).value_counts() / len(rt3_r) * 100"
   ]
  },
  {
   "cell_type": "code",
   "execution_count": 114,
   "metadata": {},
   "outputs": [
    {
     "data": {
      "text/plain": [
       "3      54.80\n",
       "2-3    21.30\n",
       "2-1     9.95\n",
       "2-2     9.30\n",
       "1       4.65\n",
       "dtype: float64"
      ]
     },
     "execution_count": 114,
     "metadata": {},
     "output_type": "execute_result"
    }
   ],
   "source": [
    "pd.Series(rt4_r).value_counts() / len(rt4_r) * 100"
   ]
  },
  {
   "cell_type": "code",
   "execution_count": 115,
   "metadata": {},
   "outputs": [
    {
     "data": {
      "text/plain": [
       "3      38.85\n",
       "2-1    24.75\n",
       "1      24.65\n",
       "2-3     8.30\n",
       "2-2     3.45\n",
       "dtype: float64"
      ]
     },
     "execution_count": 115,
     "metadata": {},
     "output_type": "execute_result"
    }
   ],
   "source": [
    "pd.Series(rt5_r).value_counts() / len(rt5_r) * 100"
   ]
  },
  {
   "cell_type": "code",
   "execution_count": 88,
   "metadata": {
    "scrolled": true
   },
   "outputs": [
    {
     "data": {
      "text/plain": [
       "QQQ       35\n",
       "AAA       22\n",
       "CaCaCa    17\n",
       "KKK       16\n",
       "JJJ       15\n",
       "QQ10      15\n",
       "1010Cr    14\n",
       "101010    13\n",
       "AACr      12\n",
       "CaCaCr    11\n",
       "CaCaQ     10\n",
       "QQJ       10\n",
       "DDD       10\n",
       "DDCr      10\n",
       "CoCoCo     9\n",
       "JJQ        9\n",
       "10KK       8\n",
       "JQCr       8\n",
       "AQ10       8\n",
       "DDJ        8\n",
       "10AK       8\n",
       "1010J      8\n",
       "KKA        8\n",
       "QQCr       8\n",
       "JJA        8\n",
       "1010K      8\n",
       "QQD        7\n",
       "QQCo       7\n",
       "JJK        7\n",
       "CaCaK      7\n",
       "          ..\n",
       "10JQ       1\n",
       "CrK10      1\n",
       "JAQ        1\n",
       "10CaK      1\n",
       "DQCa       1\n",
       "QCoW       1\n",
       "KQW        1\n",
       "QCrCo      1\n",
       "CaQ10      1\n",
       "CaJ10      1\n",
       "CoQCr      1\n",
       "KAD        1\n",
       "CoQA       1\n",
       "QWW        1\n",
       "ACrQ       1\n",
       "KCrW       1\n",
       "KR10       1\n",
       "JACa       1\n",
       "JKK        1\n",
       "DCaA       1\n",
       "JRW        1\n",
       "KJA        1\n",
       "QCrR       1\n",
       "JDW        1\n",
       "AJJ        1\n",
       "Cr10R      1\n",
       "KCrA       1\n",
       "CoCaCr     1\n",
       "JCa10      1\n",
       "10KR       1\n",
       "Length: 770, dtype: int64"
      ]
     },
     "execution_count": 88,
     "metadata": {},
     "output_type": "execute_result"
    }
   ],
   "source": [
    "pd.Series(rs1_r).value_counts()"
   ]
  },
  {
   "cell_type": "code",
   "execution_count": 89,
   "metadata": {},
   "outputs": [],
   "source": [
    "rt1_s, rs1_s = getReelInfo(simul_result, 1)"
   ]
  },
  {
   "cell_type": "code",
   "execution_count": 90,
   "metadata": {},
   "outputs": [
    {
     "data": {
      "text/plain": [
       "(['2-3', '3', '3', '2-3', '2-3'], ['CaCoCo', 'DACr', 'Q10A', 'CaAA', 'CaJJ'])"
      ]
     },
     "execution_count": 90,
     "metadata": {},
     "output_type": "execute_result"
    }
   ],
   "source": [
    "rt1_s[:5], rs1_s[:5]"
   ]
  },
  {
   "cell_type": "code",
   "execution_count": 91,
   "metadata": {},
   "outputs": [
    {
     "data": {
      "text/plain": [
       "3      809\n",
       "2-2    332\n",
       "2-1    312\n",
       "2-3    306\n",
       "1      241\n",
       "dtype: int64"
      ]
     },
     "execution_count": 91,
     "metadata": {},
     "output_type": "execute_result"
    }
   ],
   "source": [
    "pd.Series(rt1_s).value_counts()"
   ]
  },
  {
   "cell_type": "code",
   "execution_count": 92,
   "metadata": {
    "scrolled": true
   },
   "outputs": [
    {
     "data": {
      "text/plain": [
       "QQQ       34\n",
       "KKK       32\n",
       "JJJ       29\n",
       "AAA       28\n",
       "101010    27\n",
       "CrCrCr    26\n",
       "CaCaCa    25\n",
       "DDD       22\n",
       "10QQ      13\n",
       "QQCa      12\n",
       "QAQ       11\n",
       "CoCoCo    11\n",
       "1010A     10\n",
       "KAK        9\n",
       "QKQ        9\n",
       "KK10       9\n",
       "QQK        9\n",
       "10K10      9\n",
       "Cr10Cr     8\n",
       "QQJ        8\n",
       "Cr1010     8\n",
       "DQQ        8\n",
       "JJA        8\n",
       "DAA        8\n",
       "10Q10      8\n",
       "DDQ        8\n",
       "KCaK       8\n",
       "K1010      8\n",
       "Q10Q       7\n",
       "RRK        7\n",
       "          ..\n",
       "10CrCo     1\n",
       "ARA        1\n",
       "JCrK       1\n",
       "Co10Q      1\n",
       "K10Q       1\n",
       "CrA10      1\n",
       "CoKR       1\n",
       "JCrR       1\n",
       "10DCo      1\n",
       "WJJ        1\n",
       "CoJD       1\n",
       "QCa10      1\n",
       "KCaCr      1\n",
       "CoCaCo     1\n",
       "RRW        1\n",
       "KQJ        1\n",
       "CoJCa      1\n",
       "10CoCo     1\n",
       "10DD       1\n",
       "JJK        1\n",
       "CoJK       1\n",
       "CoDCa      1\n",
       "10WA       1\n",
       "10CoD      1\n",
       "10CaA      1\n",
       "RACo       1\n",
       "CrCo10     1\n",
       "DQA        1\n",
       "AKCa       1\n",
       "CaCo10     1\n",
       "Length: 790, dtype: int64"
      ]
     },
     "execution_count": 92,
     "metadata": {},
     "output_type": "execute_result"
    }
   ],
   "source": [
    "pd.Series(rs1_s).value_counts()"
   ]
  },
  {
   "cell_type": "code",
   "execution_count": null,
   "metadata": {},
   "outputs": [],
   "source": []
  },
  {
   "cell_type": "code",
   "execution_count": 45,
   "metadata": {},
   "outputs": [
    {
     "data": {
      "text/plain": [
       "0"
      ]
     },
     "execution_count": 45,
     "metadata": {},
     "output_type": "execute_result"
    }
   ],
   "source": [
    "reel_symbols.count('RRR')"
   ]
  },
  {
   "cell_type": "code",
   "execution_count": 44,
   "metadata": {},
   "outputs": [],
   "source": [
    "l_2 = []\n",
    "s = ''\n",
    "for n, i in enumerate(slot_result[slot_result['col'] == 2]['classname']):\n",
    "    s += i\n",
    "    if (n + 1) % 3 == 0:\n",
    "        l_2.append(s)\n",
    "        s = ''"
   ]
  },
  {
   "cell_type": "code",
   "execution_count": 71,
   "metadata": {
    "scrolled": true
   },
   "outputs": [
    {
     "data": {
      "text/plain": [
       "QQQ       27\n",
       "AAA       24\n",
       "KKK       19\n",
       "CrQQ      17\n",
       "JJJ       17\n",
       "10KK      15\n",
       "10QQ      14\n",
       "CaCaCa    13\n",
       "101010    12\n",
       "10JJ      12\n",
       "JCaCa     12\n",
       "Q1010     11\n",
       "Ca1010    11\n",
       "QRR       11\n",
       "CrKK      10\n",
       "QJJ       10\n",
       "CoCoCo    10\n",
       "QAA        9\n",
       "QCoCo      9\n",
       "ACoCo      9\n",
       "KQQ        8\n",
       "DDD        8\n",
       "K10Q       8\n",
       "ACaCa      8\n",
       "KCo10      8\n",
       "10RR       8\n",
       "QKK        8\n",
       "CrCoCo     7\n",
       "KCoCo      7\n",
       "QCrCr      7\n",
       "          ..\n",
       "KKW        1\n",
       "KJCa       1\n",
       "ARA        1\n",
       "QAK        1\n",
       "JCr10      1\n",
       "AKCo       1\n",
       "WR10       1\n",
       "RKW        1\n",
       "CoACo      1\n",
       "CaJ10      1\n",
       "QQD        1\n",
       "10ACa      1\n",
       "CrKR       1\n",
       "CaACo      1\n",
       "J10Q       1\n",
       "CrKA       1\n",
       "QWW        1\n",
       "10CaQ      1\n",
       "W10Q       1\n",
       "KKCr       1\n",
       "DCr10      1\n",
       "KCrK       1\n",
       "WW10       1\n",
       "WKR        1\n",
       "CoKW       1\n",
       "10QD       1\n",
       "QCrK       1\n",
       "QACa       1\n",
       "CoQA       1\n",
       "10CaCo     1\n",
       "Length: 414, dtype: int64"
      ]
     },
     "execution_count": 71,
     "metadata": {},
     "output_type": "execute_result"
    }
   ],
   "source": [
    "pd.Series(l_2).value_counts()"
   ]
  },
  {
   "cell_type": "code",
   "execution_count": 3,
   "metadata": {},
   "outputs": [],
   "source": [
    "payTable = pd.DataFrame({'10': [2, 5, 10],\n",
    "                         'J': [2, 5, 10],\n",
    "                         'Q': [3, 8, 10],\n",
    "                         'K': [3, 8, 20],\n",
    "                         'A': [5, 10, 20],\n",
    "                         'Ca': [5, 10, 35],\n",
    "                         'Co': [5, 20, 50],\n",
    "                         'D': [8, 40, 50],\n",
    "                         'Cr': [10, 50, 100]})"
   ]
  },
  {
   "cell_type": "code",
   "execution_count": 6,
   "metadata": {},
   "outputs": [],
   "source": [
    "payTable.to_csv('../data/slot_machine/platinum_csv/payTable.csv', index=False)"
   ]
  },
  {
   "cell_type": "markdown",
   "metadata": {},
   "source": [
    "----"
   ]
  },
  {
   "cell_type": "code",
   "execution_count": 116,
   "metadata": {},
   "outputs": [],
   "source": [
    "def getPlatinumColType(i):\n",
    "    if i==0:\n",
    "        np.random.randint(1, 201)\n",
    "        if i <= 109:\n",
    "            return '3'\n",
    "        elif i <= 151 and i > 109:\n",
    "            return '2-1'\n",
    "        elif i <= 169 and i > 151:\n",
    "            return '2-2'\n",
    "        elif i <= 186 and i > 169:\n",
    "            return '2-3'\n",
    "        elif i > 186:\n",
    "            return '1'\n",
    "    if i==1:\n",
    "        np.random.randint(1, 201)\n",
    "        if i <= 88:\n",
    "            return '3'\n",
    "        elif i <= 127 and i > 109:\n",
    "            return '2-1'\n",
    "        elif i <= 138 and i > 127:\n",
    "            return '2-2'\n",
    "        elif i <= 183 and i > 138:\n",
    "            return '2-3'\n",
    "        elif i > 183:\n",
    "            return '1'\n",
    "    if i==2:\n",
    "        np.random.randint(1, 201)\n",
    "        if i <= 93:\n",
    "            return '3'\n",
    "        elif i <= 125 and i > 93:\n",
    "            return '2-1'\n",
    "        elif i <= 137 and i > 125:\n",
    "            return '2-2'\n",
    "        elif i <= 176 and i > 137:\n",
    "            return '2-3'\n",
    "        elif i > 176:\n",
    "            return '1'\n",
    "    if i==3:\n",
    "        np.random.randint(1, 201)\n",
    "        if i <= 110:\n",
    "            return '3'\n",
    "        elif i <= 130 and i > 110:\n",
    "            return '2-1'\n",
    "        elif i <= 149 and i > 130:\n",
    "            return '2-2'\n",
    "        elif i <= 192 and i > 149:\n",
    "            return '2-3'\n",
    "        elif i > 192:\n",
    "            return '1'\n",
    "    if i==4:\n",
    "        np.random.randint(1, 201)\n",
    "        if i <= 78:\n",
    "            return '3'\n",
    "        elif i <= 147 and i > 78:\n",
    "            return '2-1'\n",
    "        elif i <= 134 and i > 147:\n",
    "            return '2-2'\n",
    "        elif i <= 151 and i > 134:\n",
    "            return '2-3'\n",
    "        elif i > 151:\n",
    "            return '1'\n",
    "\n",
    "def getPlatinumSymbol(start, end):\n",
    "    i = np.random.randint(start, end)\n",
    "    if i <= 27:\n",
    "        return 'Q'\n",
    "    elif i <= 52 and i > 27:\n",
    "        return '10'\n",
    "    elif i <= 76 and i > 52:\n",
    "        return 'K'\n",
    "    elif i <= 99 and i > 76:\n",
    "        return 'A'\n",
    "    elif i <= 118 and i > 99:\n",
    "        return 'J'\n",
    "    elif i <= 137 and i > 118:\n",
    "        return 'Ca'\n",
    "    elif i <= 155 and i > 137:\n",
    "        return 'Cr'\n",
    "    elif i <= 171 and i > 155:\n",
    "        return 'D'\n",
    "    elif i <= 186 and i > 171:\n",
    "        return 'Co'\n",
    "    elif i <= 192 and i > 186:\n",
    "        return 'W'\n",
    "    elif i > 192:\n",
    "        return 'R'\n",
    "\n",
    "def spin_platinum():\n",
    "    game = []\n",
    "    start = 1\n",
    "    end = 201\n",
    "    for i in range(5):\n",
    "        tmp = []\n",
    "        if game.count('R') >= 9:\n",
    "            end = 193\n",
    "        col_type = getPlatinumColType(i)\n",
    "        if col_type == '3':\n",
    "            for i in range(3):\n",
    "                tmp.append(getPlatinumSymbol(start, end))\n",
    "        elif col_type == '2-1':\n",
    "            tmp.extend([getPlatinumSymbol(start, end)]*2)\n",
    "            tmp.append(getPlatinumSymbol(start, end))\n",
    "        elif col_type == '2-2':\n",
    "            tmp.extend([getPlatinumSymbol(start, end)]*2)\n",
    "            tmp.append(getPlatinumSymbol(start, end))\n",
    "            tmp[2], tmp[1] = tmp[1], tmp[2]\n",
    "        elif col_type == '2-3':\n",
    "            tmp.append(getPlatinumSymbol(start, end))\n",
    "            tmp.extend([getPlatinumSymbol(start, end)]*2)\n",
    "        elif col_type == '1':\n",
    "            tmp.append(getPlatinumSymbol(start, end))\n",
    "            tmp.extend([getPlatinumSymbol(start, end)]*3)\n",
    "        game.extend(tmp)\n",
    "    return game\n",
    "\n",
    "def calPayline():\n",
    "    pay = 0\n",
    "    for payline in paylines:\n",
    "        count = 0\n",
    "        for i in range(5):\n",
    "            if payline[i] != 'W':\n",
    "                sym = game[payline[i]]\n",
    "                break\n",
    "        for n, i in enumerate(payline):\n",
    "            if game[payline[n]] == 'W':\n",
    "                count += 1\n",
    "                if count == 5:\n",
    "                    pay += payTable.loc[count-3,sym]\n",
    "                    break\n",
    "                continue\n",
    "            if game[payline[n]] != game[payline[n+1]]:\n",
    "                if n <= 1:\n",
    "                    break\n",
    "                else:\n",
    "                    pay += payTable.loc[count-2,sym]\n",
    "                    break\n",
    "            if n == 4:\n",
    "                pay += payTable.loc[count-2,sym]\n",
    "            count += 1\n",
    "\n",
    "def getSym(lst):\n",
    "    if len(set(lst)) < 2:\n",
    "        return lst[0]\n",
    "    else:\n",
    "        for x in list(set(lst)):\n",
    "            if x != 'W':\n",
    "                return x\n",
    "            else:\n",
    "                continue\n",
    "\n",
    "def richCheck(game, bpl):\n",
    "    rnum = game.count('R')\n",
    "    if rnum <= 2:\n",
    "        return 0\n",
    "    elif rnum == 3:\n",
    "        return bpl * 30\n",
    "    elif rnum == 4:\n",
    "        return bpl * 90\n",
    "    elif rnum == 5:\n",
    "        return bpl * 240\n",
    "    elif rnum == 6:\n",
    "        return bpl * 900\n",
    "    elif rnum == 7:\n",
    "        return bpl * 2250\n",
    "    elif rnum == 8:\n",
    "        return bpl * 15000\n",
    "    elif rnum == 9:\n",
    "        return bpl * 30000\n",
    "\n",
    "def calPlatinumPayline(game, bpl):\n",
    "    pay = 0\n",
    "    r_acc = 0\n",
    "    # pay_type_list = []\n",
    "    \n",
    "    # RICH 보너스 계산\n",
    "    pay += richCheck(game, bpl)\n",
    "    r_acc += game.count('R')\n",
    "    \n",
    "    '''\n",
    "    # RICH 누적 보너스 계산\n",
    "    if r_acc >= 100:\n",
    "        r_acc = 0\n",
    "        # pay += bpl *  \n",
    "    '''\n",
    "    \n",
    "    # payline 계산\n",
    "    for payline in paylines:\n",
    "        tmp = []\n",
    "        for i in range(5):\n",
    "            if i == 4:\n",
    "                tmp.append(game[payline[i]])\n",
    "                break\n",
    "            if i == 0 and game[payline[i]] == 'W':\n",
    "                tmp.append(game[payline[i]])\n",
    "            elif game[payline[i]] != game[payline[i+1]] and game[payline[i+1]] != 'W':\n",
    "                tmp.append(game[payline[i]])\n",
    "                break\n",
    "            else:\n",
    "                tmp.append(game[payline[i]])\n",
    "        if len(tmp) <= 2:\n",
    "            tmp = []\n",
    "        else:\n",
    "            sym = getSym(tmp)\n",
    "            pay += payTable.loc[len(tmp)-3, sym] * bpl\n",
    "        # pay_type_list.append(tmp)\n",
    "    return pay\n",
    "\n",
    "def playPlatinum(n, bpl):\n",
    "    pay_list = []\n",
    "    while(n):\n",
    "        game = spin_platinum()\n",
    "        pay_list.append(calPlatinumPayline(game, bpl))\n",
    "        n -= 1\n",
    "    return pay_list"
   ]
  },
  {
   "cell_type": "code",
   "execution_count": 118,
   "metadata": {},
   "outputs": [],
   "source": [
    "paylines = [[1, 4, 7, 10, 13],\n",
    "            [0, 3, 6, 9, 12],\n",
    "            [2, 5, 8, 11, 14],\n",
    "            [0, 4, 8, 10, 12],\n",
    "            [2, 4, 6, 10, 14],\n",
    "            [0, 3, 7, 11, 14],\n",
    "            [2, 5, 7, 9, 12],\n",
    "            [1, 5, 8, 11, 13],\n",
    "            [1, 3, 6, 9, 13],\n",
    "            [0, 4, 7, 10, 12],\n",
    "            [2, 4, 7, 10, 14],\n",
    "            [0, 4, 6, 10, 12],\n",
    "            [2, 4, 8, 10, 14],\n",
    "            [1, 4, 6, 10, 13],\n",
    "            [1, 4, 8, 10, 13],\n",
    "            [1, 5, 7, 9, 13],\n",
    "            [1, 3, 7, 11, 13],\n",
    "            [0, 5, 6, 11, 12],\n",
    "            [2, 3, 8, 9, 14],\n",
    "            [1, 3, 8, 9, 13],\n",
    "            [1, 5, 6, 11, 13],\n",
    "            [0, 3, 8, 9, 12],\n",
    "            [2, 5, 6, 11, 14],\n",
    "            [0, 5, 8, 11, 12],\n",
    "            [2, 3, 6, 9, 14],\n",
    "            [0, 3, 7, 9, 12],\n",
    "            [2, 5, 7, 11, 14],\n",
    "            [0, 4, 8, 11, 14],\n",
    "            [2, 4, 6, 9, 12],\n",
    "            [1, 3, 7, 9, 13]]"
   ]
  },
  {
   "cell_type": "code",
   "execution_count": 120,
   "metadata": {},
   "outputs": [],
   "source": [
    "payTable = pd.read_csv('../data/slot_machine/platinum_csv/payTable.csv')"
   ]
  },
  {
   "cell_type": "code",
   "execution_count": 121,
   "metadata": {},
   "outputs": [],
   "source": [
    "pay_list = playPlatinum(2000, 2000)"
   ]
  },
  {
   "cell_type": "code",
   "execution_count": 127,
   "metadata": {},
   "outputs": [],
   "source": [
    "p_test = []\n",
    "for t_game in slot_result_per_game:\n",
    "    p_test.append(calPlatinumPayline(t_game, 2000))"
   ]
  },
  {
   "cell_type": "code",
   "execution_count": 135,
   "metadata": {
    "scrolled": true
   },
   "outputs": [
    {
     "data": {
      "text/plain": [
       "<matplotlib.legend.Legend at 0x19ab4214518>"
      ]
     },
     "execution_count": 135,
     "metadata": {},
     "output_type": "execute_result"
    },
    {
     "data": {
      "image/png": "[encoded data removed]",
      "text/plain": [
       "<Figure size 432x288 with 1 Axes>"
      ]
     },
     "metadata": {},
     "output_type": "display_data"
    }
   ],
   "source": [
    "fig, ax = plt.subplots()\n",
    "sns.kdeplot(pay_list, label='simul', ax=ax)\n",
    "sns.kdeplot(p_test, label='real', ax=ax)\n",
    "ax.set_xlim(0,100000)\n",
    "plt.legend()"
   ]
  },
  {
   "cell_type": "code",
   "execution_count": 137,
   "metadata": {},
   "outputs": [
    {
     "data": {
      "text/plain": [
       "<matplotlib.legend.Legend at 0x19ab42e7940>"
      ]
     },
     "execution_count": 137,
     "metadata": {},
     "output_type": "execute_result"
    },
    {
     "data": {
      "image/png": "[encoded data removed]",
      "text/plain": [
       "<Figure size 432x288 with 1 Axes>"
      ]
     },
     "metadata": {},
     "output_type": "display_data"
    }
   ],
   "source": [
    "fig, ax = plt.subplots()\n",
    "sns.kdeplot(pay_list, label='simul', ax=ax)\n",
    "sns.kdeplot(p_test, label='real', ax=ax)\n",
    "ax.set_xlim(100000,300000)\n",
    "plt.legend()"
   ]
  },
  {
   "cell_type": "code",
   "execution_count": 131,
   "metadata": {
    "scrolled": true
   },
   "outputs": [
    {
     "data": {
      "text/plain": [
       "<matplotlib.axes._subplots.AxesSubplot at 0x19ab4108b70>"
      ]
     },
     "execution_count": 131,
     "metadata": {},
     "output_type": "execute_result"
    },
    {
     "data": {
      "image/png": "[encoded data removed]",
      "text/plain": [
       "<Figure size 432x288 with 1 Axes>"
      ]
     },
     "metadata": {},
     "output_type": "display_data"
    }
   ],
   "source": [
    "sns.kdeplot(p_test)"
   ]
  },
  {
   "cell_type": "code",
   "execution_count": 143,
   "metadata": {},
   "outputs": [],
   "source": [
    "real_num_10 = []\n",
    "\n",
    "for l in slot_result_per_game:\n",
    "    real_num_10.append(l.count('10'))"
   ]
  },
  {
   "cell_type": "code",
   "execution_count": 144,
   "metadata": {},
   "outputs": [
    {
     "data": {
      "image/png": "[encoded data removed]",
      "text/plain": [
       "<Figure size 1440x864 with 1 Axes>"
      ]
     },
     "metadata": {},
     "output_type": "display_data"
    }
   ],
   "source": [
    "plt.figure(figsize=(20,12))\n",
    "sns.countplot(real_num_10)\n",
    "plt.show()"
   ]
  },
  {
   "cell_type": "code",
   "execution_count": 145,
   "metadata": {},
   "outputs": [],
   "source": [
    "simul_num_10 = []\n",
    "\n",
    "for l in simul_result_per_game:\n",
    "    simul_num_10.append(l.count('10'))"
   ]
  },
  {
   "cell_type": "code",
   "execution_count": 146,
   "metadata": {},
   "outputs": [
    {
     "data": {
      "image/png": "[encoded data removed]",
      "text/plain": [
       "<Figure size 1440x864 with 1 Axes>"
      ]
     },
     "metadata": {},
     "output_type": "display_data"
    }
   ],
   "source": [
    "plt.figure(figsize=(20,12))\n",
    "sns.countplot(simul_num_10)\n",
    "plt.show()"
   ]
  },
  {
   "cell_type": "code",
   "execution_count": null,
   "metadata": {},
   "outputs": [],
   "source": []
  }
 ],
 "metadata": {
  "kernelspec": {
   "display_name": "Python 3",
   "language": "python",
   "name": "python3"
  },
  "language_info": {
   "codemirror_mode": {
    "name": "ipython",
    "version": 3
   },
   "file_extension": ".py",
   "mimetype": "text/x-python",
   "name": "python",
   "nbconvert_exporter": "python",
   "pygments_lexer": "ipython3",
   "version": "3.6.8"
  }
 },
 "nbformat": 4,
 "nbformat_minor": 2
}
