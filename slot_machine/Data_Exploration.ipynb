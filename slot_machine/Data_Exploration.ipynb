{
 "cells": [
  {
   "cell_type": "code",
   "execution_count": 47,
   "metadata": {},
   "outputs": [],
   "source": [
    "import pandas as pd\n",
    "import matplotlib.pyplot as plt\n",
    "import seaborn as sns\n",
    "\n",
    "%matplotlib inline"
   ]
  },
  {
   "cell_type": "code",
   "execution_count": 3,
   "metadata": {},
   "outputs": [],
   "source": [
    "slot_result = pd.read_csv('../data/slot_machine/platinum_csv/pl_all.csv')"
   ]
  },
  {
   "cell_type": "code",
   "execution_count": 4,
   "metadata": {
    "scrolled": true
   },
   "outputs": [
    {
     "data": {
      "text/html": [
       "<div>\n",
       "<style scoped>\n",
       "    .dataframe tbody tr th:only-of-type {\n",
       "        vertical-align: middle;\n",
       "    }\n",
       "\n",
       "    .dataframe tbody tr th {\n",
       "        vertical-align: top;\n",
       "    }\n",
       "\n",
       "    .dataframe thead th {\n",
       "        text-align: right;\n",
       "    }\n",
       "</style>\n",
       "<table border=\"1\" class=\"dataframe\">\n",
       "  <thead>\n",
       "    <tr style=\"text-align: right;\">\n",
       "      <th></th>\n",
       "      <th>img</th>\n",
       "      <th>classname</th>\n",
       "    </tr>\n",
       "  </thead>\n",
       "  <tbody>\n",
       "    <tr>\n",
       "      <th>0</th>\n",
       "      <td>platinum_0_0.jpg</td>\n",
       "      <td>Ca</td>\n",
       "    </tr>\n",
       "    <tr>\n",
       "      <th>1</th>\n",
       "      <td>platinum_0_1.jpg</td>\n",
       "      <td>A</td>\n",
       "    </tr>\n",
       "    <tr>\n",
       "      <th>2</th>\n",
       "      <td>platinum_0_2.jpg</td>\n",
       "      <td>Q</td>\n",
       "    </tr>\n",
       "    <tr>\n",
       "      <th>3</th>\n",
       "      <td>platinum_0_3.jpg</td>\n",
       "      <td>W</td>\n",
       "    </tr>\n",
       "    <tr>\n",
       "      <th>4</th>\n",
       "      <td>platinum_0_4.jpg</td>\n",
       "      <td>A</td>\n",
       "    </tr>\n",
       "  </tbody>\n",
       "</table>\n",
       "</div>"
      ],
      "text/plain": [
       "                img classname\n",
       "0  platinum_0_0.jpg        Ca\n",
       "1  platinum_0_1.jpg         A\n",
       "2  platinum_0_2.jpg         Q\n",
       "3  platinum_0_3.jpg         W\n",
       "4  platinum_0_4.jpg         A"
      ]
     },
     "execution_count": 4,
     "metadata": {},
     "output_type": "execute_result"
    }
   ],
   "source": [
    "slot_result.head()"
   ]
  },
  {
   "cell_type": "code",
   "execution_count": 9,
   "metadata": {},
   "outputs": [
    {
     "name": "stdout",
     "output_type": "stream",
     "text": [
      "18615 1241\n"
     ]
    }
   ],
   "source": [
    "print(len(slot_result), len(slot_result) // 15)"
   ]
  },
  {
   "cell_type": "code",
   "execution_count": 8,
   "metadata": {
    "scrolled": true
   },
   "outputs": [
    {
     "data": {
      "text/plain": [
       "Q     13.263497\n",
       "10    12.613484\n",
       "K     11.931238\n",
       "A     11.915122\n",
       "J      9.395649\n",
       "Ca     9.331185\n",
       "Cr     8.740263\n",
       "D      8.025786\n",
       "Co     7.751813\n",
       "R      3.900081\n",
       "W      3.131883\n",
       "Name: classname, dtype: float64"
      ]
     },
     "execution_count": 8,
     "metadata": {},
     "output_type": "execute_result"
    }
   ],
   "source": [
    "slot_result['classname'].value_counts() / len(slot_result) * 100"
   ]
  },
  {
   "cell_type": "code",
   "execution_count": 20,
   "metadata": {
    "scrolled": true
   },
   "outputs": [
    {
     "data": {
      "text/plain": [
       "['platinum', '0', '0.jpg']"
      ]
     },
     "execution_count": 20,
     "metadata": {},
     "output_type": "execute_result"
    }
   ],
   "source": [
    "slot_result['img'][0].split('_')[1]"
   ]
  },
  {
   "cell_type": "code",
   "execution_count": 31,
   "metadata": {},
   "outputs": [],
   "source": [
    "slot_result_game = [int(i_name.split('_')[1]) for n, i_name in enumerate(slot_result['img'])]\n",
    "slot_result_row = [int(i_name.split('_')[2].split('.')[0]) % 3 + 1 for n, i_name in enumerate(slot_result['img'])]\n",
    "slot_result_col = [int(i_name.split('_')[2].split('.')[0]) // 3 + 1 for n, i_name in enumerate(slot_result['img'])]"
   ]
  },
  {
   "cell_type": "code",
   "execution_count": 58,
   "metadata": {},
   "outputs": [
    {
     "data": {
      "text/html": [
       "<div>\n",
       "<style scoped>\n",
       "    .dataframe tbody tr th:only-of-type {\n",
       "        vertical-align: middle;\n",
       "    }\n",
       "\n",
       "    .dataframe tbody tr th {\n",
       "        vertical-align: top;\n",
       "    }\n",
       "\n",
       "    .dataframe thead th {\n",
       "        text-align: right;\n",
       "    }\n",
       "</style>\n",
       "<table border=\"1\" class=\"dataframe\">\n",
       "  <thead>\n",
       "    <tr style=\"text-align: right;\">\n",
       "      <th></th>\n",
       "      <th>img</th>\n",
       "      <th>classname</th>\n",
       "      <th>game</th>\n",
       "      <th>row</th>\n",
       "      <th>col</th>\n",
       "    </tr>\n",
       "  </thead>\n",
       "  <tbody>\n",
       "    <tr>\n",
       "      <th>0</th>\n",
       "      <td>platinum_0_0.jpg</td>\n",
       "      <td>Ca</td>\n",
       "      <td>0</td>\n",
       "      <td>1</td>\n",
       "      <td>1</td>\n",
       "    </tr>\n",
       "    <tr>\n",
       "      <th>1</th>\n",
       "      <td>platinum_0_1.jpg</td>\n",
       "      <td>A</td>\n",
       "      <td>0</td>\n",
       "      <td>2</td>\n",
       "      <td>1</td>\n",
       "    </tr>\n",
       "    <tr>\n",
       "      <th>2</th>\n",
       "      <td>platinum_0_2.jpg</td>\n",
       "      <td>Q</td>\n",
       "      <td>0</td>\n",
       "      <td>3</td>\n",
       "      <td>1</td>\n",
       "    </tr>\n",
       "    <tr>\n",
       "      <th>3</th>\n",
       "      <td>platinum_0_3.jpg</td>\n",
       "      <td>W</td>\n",
       "      <td>0</td>\n",
       "      <td>1</td>\n",
       "      <td>2</td>\n",
       "    </tr>\n",
       "    <tr>\n",
       "      <th>4</th>\n",
       "      <td>platinum_0_4.jpg</td>\n",
       "      <td>A</td>\n",
       "      <td>0</td>\n",
       "      <td>2</td>\n",
       "      <td>2</td>\n",
       "    </tr>\n",
       "    <tr>\n",
       "      <th>5</th>\n",
       "      <td>platinum_0_5.jpg</td>\n",
       "      <td>A</td>\n",
       "      <td>0</td>\n",
       "      <td>3</td>\n",
       "      <td>2</td>\n",
       "    </tr>\n",
       "    <tr>\n",
       "      <th>6</th>\n",
       "      <td>platinum_0_6.jpg</td>\n",
       "      <td>10</td>\n",
       "      <td>0</td>\n",
       "      <td>1</td>\n",
       "      <td>3</td>\n",
       "    </tr>\n",
       "    <tr>\n",
       "      <th>7</th>\n",
       "      <td>platinum_0_7.jpg</td>\n",
       "      <td>Cr</td>\n",
       "      <td>0</td>\n",
       "      <td>2</td>\n",
       "      <td>3</td>\n",
       "    </tr>\n",
       "    <tr>\n",
       "      <th>8</th>\n",
       "      <td>platinum_0_8.jpg</td>\n",
       "      <td>Co</td>\n",
       "      <td>0</td>\n",
       "      <td>3</td>\n",
       "      <td>3</td>\n",
       "    </tr>\n",
       "    <tr>\n",
       "      <th>9</th>\n",
       "      <td>platinum_0_9.jpg</td>\n",
       "      <td>10</td>\n",
       "      <td>0</td>\n",
       "      <td>1</td>\n",
       "      <td>4</td>\n",
       "    </tr>\n",
       "    <tr>\n",
       "      <th>10</th>\n",
       "      <td>platinum_0_10.jpg</td>\n",
       "      <td>Co</td>\n",
       "      <td>0</td>\n",
       "      <td>2</td>\n",
       "      <td>4</td>\n",
       "    </tr>\n",
       "    <tr>\n",
       "      <th>11</th>\n",
       "      <td>platinum_0_11.jpg</td>\n",
       "      <td>10</td>\n",
       "      <td>0</td>\n",
       "      <td>3</td>\n",
       "      <td>4</td>\n",
       "    </tr>\n",
       "    <tr>\n",
       "      <th>12</th>\n",
       "      <td>platinum_0_12.jpg</td>\n",
       "      <td>10</td>\n",
       "      <td>0</td>\n",
       "      <td>1</td>\n",
       "      <td>5</td>\n",
       "    </tr>\n",
       "    <tr>\n",
       "      <th>13</th>\n",
       "      <td>platinum_0_13.jpg</td>\n",
       "      <td>A</td>\n",
       "      <td>0</td>\n",
       "      <td>2</td>\n",
       "      <td>5</td>\n",
       "    </tr>\n",
       "    <tr>\n",
       "      <th>14</th>\n",
       "      <td>platinum_0_14.jpg</td>\n",
       "      <td>J</td>\n",
       "      <td>0</td>\n",
       "      <td>3</td>\n",
       "      <td>5</td>\n",
       "    </tr>\n",
       "    <tr>\n",
       "      <th>15</th>\n",
       "      <td>platinum_1_0.jpg</td>\n",
       "      <td>D</td>\n",
       "      <td>1</td>\n",
       "      <td>1</td>\n",
       "      <td>1</td>\n",
       "    </tr>\n",
       "    <tr>\n",
       "      <th>16</th>\n",
       "      <td>platinum_1_1.jpg</td>\n",
       "      <td>Cr</td>\n",
       "      <td>1</td>\n",
       "      <td>2</td>\n",
       "      <td>1</td>\n",
       "    </tr>\n",
       "    <tr>\n",
       "      <th>17</th>\n",
       "      <td>platinum_1_2.jpg</td>\n",
       "      <td>Q</td>\n",
       "      <td>1</td>\n",
       "      <td>3</td>\n",
       "      <td>1</td>\n",
       "    </tr>\n",
       "    <tr>\n",
       "      <th>18</th>\n",
       "      <td>platinum_1_3.jpg</td>\n",
       "      <td>Co</td>\n",
       "      <td>1</td>\n",
       "      <td>1</td>\n",
       "      <td>2</td>\n",
       "    </tr>\n",
       "    <tr>\n",
       "      <th>19</th>\n",
       "      <td>platinum_1_4.jpg</td>\n",
       "      <td>10</td>\n",
       "      <td>1</td>\n",
       "      <td>2</td>\n",
       "      <td>2</td>\n",
       "    </tr>\n",
       "    <tr>\n",
       "      <th>20</th>\n",
       "      <td>platinum_1_5.jpg</td>\n",
       "      <td>R</td>\n",
       "      <td>1</td>\n",
       "      <td>3</td>\n",
       "      <td>2</td>\n",
       "    </tr>\n",
       "    <tr>\n",
       "      <th>21</th>\n",
       "      <td>platinum_1_6.jpg</td>\n",
       "      <td>K</td>\n",
       "      <td>1</td>\n",
       "      <td>1</td>\n",
       "      <td>3</td>\n",
       "    </tr>\n",
       "    <tr>\n",
       "      <th>22</th>\n",
       "      <td>platinum_1_7.jpg</td>\n",
       "      <td>Ca</td>\n",
       "      <td>1</td>\n",
       "      <td>2</td>\n",
       "      <td>3</td>\n",
       "    </tr>\n",
       "    <tr>\n",
       "      <th>23</th>\n",
       "      <td>platinum_1_8.jpg</td>\n",
       "      <td>A</td>\n",
       "      <td>1</td>\n",
       "      <td>3</td>\n",
       "      <td>3</td>\n",
       "    </tr>\n",
       "    <tr>\n",
       "      <th>24</th>\n",
       "      <td>platinum_1_9.jpg</td>\n",
       "      <td>Ca</td>\n",
       "      <td>1</td>\n",
       "      <td>1</td>\n",
       "      <td>4</td>\n",
       "    </tr>\n",
       "    <tr>\n",
       "      <th>25</th>\n",
       "      <td>platinum_1_10.jpg</td>\n",
       "      <td>Q</td>\n",
       "      <td>1</td>\n",
       "      <td>2</td>\n",
       "      <td>4</td>\n",
       "    </tr>\n",
       "    <tr>\n",
       "      <th>26</th>\n",
       "      <td>platinum_1_11.jpg</td>\n",
       "      <td>Co</td>\n",
       "      <td>1</td>\n",
       "      <td>3</td>\n",
       "      <td>4</td>\n",
       "    </tr>\n",
       "    <tr>\n",
       "      <th>27</th>\n",
       "      <td>platinum_1_12.jpg</td>\n",
       "      <td>W</td>\n",
       "      <td>1</td>\n",
       "      <td>1</td>\n",
       "      <td>5</td>\n",
       "    </tr>\n",
       "    <tr>\n",
       "      <th>28</th>\n",
       "      <td>platinum_1_13.jpg</td>\n",
       "      <td>10</td>\n",
       "      <td>1</td>\n",
       "      <td>2</td>\n",
       "      <td>5</td>\n",
       "    </tr>\n",
       "    <tr>\n",
       "      <th>29</th>\n",
       "      <td>platinum_1_14.jpg</td>\n",
       "      <td>K</td>\n",
       "      <td>1</td>\n",
       "      <td>3</td>\n",
       "      <td>5</td>\n",
       "    </tr>\n",
       "  </tbody>\n",
       "</table>\n",
       "</div>"
      ],
      "text/plain": [
       "                  img classname  game  row  col\n",
       "0    platinum_0_0.jpg        Ca     0    1    1\n",
       "1    platinum_0_1.jpg         A     0    2    1\n",
       "2    platinum_0_2.jpg         Q     0    3    1\n",
       "3    platinum_0_3.jpg         W     0    1    2\n",
       "4    platinum_0_4.jpg         A     0    2    2\n",
       "5    platinum_0_5.jpg         A     0    3    2\n",
       "6    platinum_0_6.jpg        10     0    1    3\n",
       "7    platinum_0_7.jpg        Cr     0    2    3\n",
       "8    platinum_0_8.jpg        Co     0    3    3\n",
       "9    platinum_0_9.jpg        10     0    1    4\n",
       "10  platinum_0_10.jpg        Co     0    2    4\n",
       "11  platinum_0_11.jpg        10     0    3    4\n",
       "12  platinum_0_12.jpg        10     0    1    5\n",
       "13  platinum_0_13.jpg         A     0    2    5\n",
       "14  platinum_0_14.jpg         J     0    3    5\n",
       "15   platinum_1_0.jpg         D     1    1    1\n",
       "16   platinum_1_1.jpg        Cr     1    2    1\n",
       "17   platinum_1_2.jpg         Q     1    3    1\n",
       "18   platinum_1_3.jpg        Co     1    1    2\n",
       "19   platinum_1_4.jpg        10     1    2    2\n",
       "20   platinum_1_5.jpg         R     1    3    2\n",
       "21   platinum_1_6.jpg         K     1    1    3\n",
       "22   platinum_1_7.jpg        Ca     1    2    3\n",
       "23   platinum_1_8.jpg         A     1    3    3\n",
       "24   platinum_1_9.jpg        Ca     1    1    4\n",
       "25  platinum_1_10.jpg         Q     1    2    4\n",
       "26  platinum_1_11.jpg        Co     1    3    4\n",
       "27  platinum_1_12.jpg         W     1    1    5\n",
       "28  platinum_1_13.jpg        10     1    2    5\n",
       "29  platinum_1_14.jpg         K     1    3    5"
      ]
     },
     "execution_count": 58,
     "metadata": {},
     "output_type": "execute_result"
    }
   ],
   "source": [
    "slot_result['game'] = slot_result_game\n",
    "slot_result['row'] = slot_result_row\n",
    "slot_result['col'] = slot_result_col\n",
    "\n",
    "slot_result.head(30)"
   ]
  },
  {
   "cell_type": "code",
   "execution_count": 51,
   "metadata": {
    "scrolled": false
   },
   "outputs": [
    {
     "data": {
      "image/png": "[encoded data removed]",
      "text/plain": [
       "<Figure size 1440x864 with 1 Axes>"
      ]
     },
     "metadata": {},
     "output_type": "display_data"
    }
   ],
   "source": [
    "plt.figure(figsize=(20,12))\n",
    "sns.countplot(x='classname', data=slot_result, hue='col')\n",
    "plt.show()"
   ]
  },
  {
   "cell_type": "code",
   "execution_count": 61,
   "metadata": {
    "scrolled": true
   },
   "outputs": [
    {
     "data": {
      "text/plain": [
       "Q     18.130540\n",
       "A     13.376309\n",
       "D     11.764706\n",
       "10    10.663443\n",
       "J      9.481601\n",
       "K      8.917540\n",
       "Cr     8.084878\n",
       "Ca     7.332796\n",
       "Co     6.768735\n",
       "R      3.062047\n",
       "W      2.417405\n",
       "Name: classname, dtype: float64"
      ]
     },
     "execution_count": 61,
     "metadata": {},
     "output_type": "execute_result"
    }
   ],
   "source": [
    "slot_result[slot_result['col'] == 1]['classname'].value_counts() / len(slot_result[slot_result['col'] == 1]) * 100"
   ]
  },
  {
   "cell_type": "code",
   "execution_count": 68,
   "metadata": {},
   "outputs": [],
   "source": [
    "l_1 = []\n",
    "s = ''\n",
    "for n, i in enumerate(slot_result[slot_result['col'] == 1]['classname']):\n",
    "    s += i\n",
    "    if (n + 1) % 3 == 0:\n",
    "        l_1.append(s)\n",
    "        s = ''"
   ]
  },
  {
   "cell_type": "code",
   "execution_count": 76,
   "metadata": {},
   "outputs": [
    {
     "data": {
      "text/plain": [
       "2"
      ]
     },
     "execution_count": 76,
     "metadata": {},
     "output_type": "execute_result"
    }
   ],
   "source": [
    "l_1.count('CrCrCr')"
   ]
  },
  {
   "cell_type": "code",
   "execution_count": 75,
   "metadata": {
    "scrolled": true
   },
   "outputs": [
    {
     "data": {
      "text/plain": [
       "QQQ       22\n",
       "AAA       17\n",
       "QQ10      15\n",
       "KKK       15\n",
       "QQK       14\n",
       "101010    13\n",
       "JJJ       12\n",
       "QQCa      12\n",
       "QQD       11\n",
       "1010Cr    11\n",
       "QQCr      11\n",
       "DDD       11\n",
       "CaCaCa     9\n",
       "AQA        9\n",
       "CoCoCo     9\n",
       "AACr       8\n",
       "AQ10       8\n",
       "QAQ        8\n",
       "DCrQ       8\n",
       "AAQ        8\n",
       "JJQ        7\n",
       "CaCaD      7\n",
       "1010J      7\n",
       "KKCa       7\n",
       "AAK        7\n",
       "JQQ        7\n",
       "QQA        6\n",
       "DCrCr      6\n",
       "JJCr       6\n",
       "QQR        6\n",
       "          ..\n",
       "ACaW       1\n",
       "JWCr       1\n",
       "Q10Q       1\n",
       "ADD        1\n",
       "CrQD       1\n",
       "RQCr       1\n",
       "ARJ        1\n",
       "DAK        1\n",
       "QDD        1\n",
       "Q10A       1\n",
       "DKCo       1\n",
       "DQJ        1\n",
       "10CoK      1\n",
       "QCrJ       1\n",
       "Cr10Q      1\n",
       "DJD        1\n",
       "10AW       1\n",
       "CrACr      1\n",
       "CaQR       1\n",
       "ACaCr      1\n",
       "KCoD       1\n",
       "10JCa      1\n",
       "J1010      1\n",
       "DCrR       1\n",
       "CaACo      1\n",
       "QD10       1\n",
       "CoCoCa     1\n",
       "DKCr       1\n",
       "ARA        1\n",
       "J10J       1\n",
       "Length: 445, dtype: int64"
      ]
     },
     "execution_count": 75,
     "metadata": {},
     "output_type": "execute_result"
    }
   ],
   "source": [
    "pd.Series(l_1).value_counts()"
   ]
  },
  {
   "cell_type": "code",
   "execution_count": 70,
   "metadata": {},
   "outputs": [],
   "source": [
    "l_2 = []\n",
    "s = ''\n",
    "for n, i in enumerate(slot_result[slot_result['col'] == 2]['classname']):\n",
    "    s += i\n",
    "    if (n + 1) % 3 == 0:\n",
    "        l_2.append(s)\n",
    "        s = ''"
   ]
  },
  {
   "cell_type": "code",
   "execution_count": 71,
   "metadata": {},
   "outputs": [
    {
     "data": {
      "text/plain": [
       "QQQ       27\n",
       "AAA       24\n",
       "KKK       19\n",
       "CrQQ      17\n",
       "JJJ       17\n",
       "10KK      15\n",
       "10QQ      14\n",
       "CaCaCa    13\n",
       "101010    12\n",
       "10JJ      12\n",
       "JCaCa     12\n",
       "Q1010     11\n",
       "Ca1010    11\n",
       "QRR       11\n",
       "CrKK      10\n",
       "QJJ       10\n",
       "CoCoCo    10\n",
       "QAA        9\n",
       "QCoCo      9\n",
       "ACoCo      9\n",
       "KQQ        8\n",
       "DDD        8\n",
       "K10Q       8\n",
       "ACaCa      8\n",
       "KCo10      8\n",
       "10RR       8\n",
       "QKK        8\n",
       "CrCoCo     7\n",
       "KCoCo      7\n",
       "QCrCr      7\n",
       "          ..\n",
       "KKW        1\n",
       "KJCa       1\n",
       "ARA        1\n",
       "QAK        1\n",
       "JCr10      1\n",
       "AKCo       1\n",
       "WR10       1\n",
       "RKW        1\n",
       "CoACo      1\n",
       "CaJ10      1\n",
       "QQD        1\n",
       "10ACa      1\n",
       "CrKR       1\n",
       "CaACo      1\n",
       "J10Q       1\n",
       "CrKA       1\n",
       "QWW        1\n",
       "10CaQ      1\n",
       "W10Q       1\n",
       "KKCr       1\n",
       "DCr10      1\n",
       "KCrK       1\n",
       "WW10       1\n",
       "WKR        1\n",
       "CoKW       1\n",
       "10QD       1\n",
       "QCrK       1\n",
       "QACa       1\n",
       "CoQA       1\n",
       "10CaCo     1\n",
       "Length: 414, dtype: int64"
      ]
     },
     "execution_count": 71,
     "metadata": {},
     "output_type": "execute_result"
    }
   ],
   "source": [
    "pd.Series(l_2).value_counts()"
   ]
  },
  {
   "cell_type": "code",
   "execution_count": null,
   "metadata": {},
   "outputs": [],
   "source": []
  }
 ],
 "metadata": {
  "kernelspec": {
   "display_name": "Python 3",
   "language": "python",
   "name": "python3"
  },
  "language_info": {
   "codemirror_mode": {
    "name": "ipython",
    "version": 3
   },
   "file_extension": ".py",
   "mimetype": "text/x-python",
   "name": "python",
   "nbconvert_exporter": "python",
   "pygments_lexer": "ipython3",
   "version": "3.6.8"
  }
 },
 "nbformat": 4,
 "nbformat_minor": 2
}
