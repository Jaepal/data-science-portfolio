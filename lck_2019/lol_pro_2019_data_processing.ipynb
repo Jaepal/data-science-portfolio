{
 "cells": [
  {
   "cell_type": "code",
   "execution_count": 1,
   "metadata": {},
   "outputs": [],
   "source": [
    "import numpy as np\n",
    "import pandas as pd"
   ]
  },
  {
   "cell_type": "code",
   "execution_count": 8,
   "metadata": {},
   "outputs": [],
   "source": [
    "stats = pd.read_csv('../data/lol_pro_stats/pro_stats.csv')"
   ]
  },
  {
   "cell_type": "code",
   "execution_count": 9,
   "metadata": {},
   "outputs": [
    {
     "data": {
      "text/plain": [
       "Index(['Team', 'Player', 'Season', 'Champion', 'Game', 'Win', 'Lose',\n",
       "       'WinRate', 'Kill', 'Death', 'Assist', 'KDA', 'VS', 'DMG', 'DPM', 'DTPM',\n",
       "       'CS', 'CSPM', 'KPAR', 'DPAR', 'KS', 'Gold', 'GPM', 'Base'],\n",
       "      dtype='object')"
      ]
     },
     "execution_count": 9,
     "metadata": {},
     "output_type": "execute_result"
    }
   ],
   "source": [
    "stats.columns"
   ]
  },
  {
   "cell_type": "code",
   "execution_count": 10,
   "metadata": {},
   "outputs": [
    {
     "data": {
      "text/html": [
       "<div>\n",
       "<style scoped>\n",
       "    .dataframe tbody tr th:only-of-type {\n",
       "        vertical-align: middle;\n",
       "    }\n",
       "\n",
       "    .dataframe tbody tr th {\n",
       "        vertical-align: top;\n",
       "    }\n",
       "\n",
       "    .dataframe thead th {\n",
       "        text-align: right;\n",
       "    }\n",
       "</style>\n",
       "<table border=\"1\" class=\"dataframe\">\n",
       "  <thead>\n",
       "    <tr style=\"text-align: right;\">\n",
       "      <th></th>\n",
       "      <th>Player</th>\n",
       "      <th>Season</th>\n",
       "      <th>Champion</th>\n",
       "      <th>Game</th>\n",
       "      <th>WinRate</th>\n",
       "      <th>KDA</th>\n",
       "      <th>DMG</th>\n",
       "      <th>DPM</th>\n",
       "      <th>DTPM</th>\n",
       "      <th>CSPM</th>\n",
       "      <th>KPAR</th>\n",
       "      <th>DPAR</th>\n",
       "      <th>KS</th>\n",
       "      <th>GPM</th>\n",
       "    </tr>\n",
       "  </thead>\n",
       "  <tbody>\n",
       "    <tr>\n",
       "      <th>0</th>\n",
       "      <td>Kiin</td>\n",
       "      <td>2019 LCK Spring</td>\n",
       "      <td>Aatrox</td>\n",
       "      <td>7</td>\n",
       "      <td>42.90%</td>\n",
       "      <td>2.60</td>\n",
       "      <td>11.4k</td>\n",
       "      <td>330</td>\n",
       "      <td>646</td>\n",
       "      <td>9.26</td>\n",
       "      <td>36.80%</td>\n",
       "      <td>24.40%</td>\n",
       "      <td>20.20%</td>\n",
       "      <td>393</td>\n",
       "    </tr>\n",
       "    <tr>\n",
       "      <th>1</th>\n",
       "      <td>Kiin</td>\n",
       "      <td>2019 LCK Spring</td>\n",
       "      <td>Akali</td>\n",
       "      <td>4</td>\n",
       "      <td>50.00%</td>\n",
       "      <td>3.80</td>\n",
       "      <td>15.7k</td>\n",
       "      <td>365</td>\n",
       "      <td>604</td>\n",
       "      <td>7.55</td>\n",
       "      <td>61.10%</td>\n",
       "      <td>18.60%</td>\n",
       "      <td>34.00%</td>\n",
       "      <td>393</td>\n",
       "    </tr>\n",
       "    <tr>\n",
       "      <th>2</th>\n",
       "      <td>Kiin</td>\n",
       "      <td>2019 LCK Spring</td>\n",
       "      <td>Ryze</td>\n",
       "      <td>4</td>\n",
       "      <td>25.00%</td>\n",
       "      <td>1.23</td>\n",
       "      <td>20.4k</td>\n",
       "      <td>537</td>\n",
       "      <td>467</td>\n",
       "      <td>8.47</td>\n",
       "      <td>56.00%</td>\n",
       "      <td>29.70%</td>\n",
       "      <td>15.30%</td>\n",
       "      <td>373</td>\n",
       "    </tr>\n",
       "    <tr>\n",
       "      <th>3</th>\n",
       "      <td>Kiin</td>\n",
       "      <td>2019 LCK Spring</td>\n",
       "      <td>Lucian</td>\n",
       "      <td>3</td>\n",
       "      <td>33.30%</td>\n",
       "      <td>1.77</td>\n",
       "      <td>23.5k</td>\n",
       "      <td>642</td>\n",
       "      <td>583</td>\n",
       "      <td>9.24</td>\n",
       "      <td>59.80%</td>\n",
       "      <td>36.80%</td>\n",
       "      <td>31.30%</td>\n",
       "      <td>414</td>\n",
       "    </tr>\n",
       "    <tr>\n",
       "      <th>4</th>\n",
       "      <td>Kiin</td>\n",
       "      <td>2019 LCK Spring</td>\n",
       "      <td>Vladimir</td>\n",
       "      <td>3</td>\n",
       "      <td>66.70%</td>\n",
       "      <td>6.25</td>\n",
       "      <td>16.9k</td>\n",
       "      <td>502</td>\n",
       "      <td>692</td>\n",
       "      <td>9.32</td>\n",
       "      <td>49.50%</td>\n",
       "      <td>30.50%</td>\n",
       "      <td>22.20%</td>\n",
       "      <td>434</td>\n",
       "    </tr>\n",
       "  </tbody>\n",
       "</table>\n",
       "</div>"
      ],
      "text/plain": [
       "  Player           Season  Champion  Game WinRate   KDA    DMG  DPM  DTPM  \\\n",
       "0   Kiin  2019 LCK Spring    Aatrox     7  42.90%  2.60  11.4k  330   646   \n",
       "1   Kiin  2019 LCK Spring     Akali     4  50.00%  3.80  15.7k  365   604   \n",
       "2   Kiin  2019 LCK Spring      Ryze     4  25.00%  1.23  20.4k  537   467   \n",
       "3   Kiin  2019 LCK Spring    Lucian     3  33.30%  1.77  23.5k  642   583   \n",
       "4   Kiin  2019 LCK Spring  Vladimir     3  66.70%  6.25  16.9k  502   692   \n",
       "\n",
       "   CSPM    KPAR    DPAR      KS  GPM  \n",
       "0  9.26  36.80%  24.40%  20.20%  393  \n",
       "1  7.55  61.10%  18.60%  34.00%  393  \n",
       "2  8.47  56.00%  29.70%  15.30%  373  \n",
       "3  9.24  59.80%  36.80%  31.30%  414  \n",
       "4  9.32  49.50%  30.50%  22.20%  434  "
      ]
     },
     "execution_count": 10,
     "metadata": {},
     "output_type": "execute_result"
    }
   ],
   "source": [
    "# 필요한 열만 추출\n",
    "\n",
    "stats = stats[['Player', 'Season', 'Champion', 'Game', 'WinRate', 'KDA', 'DMG', 'DPM', 'DTPM', 'CSPM', 'KPAR', 'DPAR', 'KS', 'GPM']]\n",
    "stats.head()"
   ]
  },
  {
   "cell_type": "code",
   "execution_count": null,
   "metadata": {},
   "outputs": [],
   "source": []
  }
 ],
 "metadata": {
  "kernelspec": {
   "display_name": "Python 3",
   "language": "python",
   "name": "python3"
  },
  "language_info": {
   "codemirror_mode": {
    "name": "ipython",
    "version": 3
   },
   "file_extension": ".py",
   "mimetype": "text/x-python",
   "name": "python",
   "nbconvert_exporter": "python",
   "pygments_lexer": "ipython3",
   "version": "3.6.8"
  }
 },
 "nbformat": 4,
 "nbformat_minor": 2
}
